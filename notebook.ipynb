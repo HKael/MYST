{
 "cells": [
  {
   "cell_type": "markdown",
   "metadata": {},
   "source": [
    "<center> <img src=\"http://oci02.img.iteso.mx/identidad_de_instancia_2018/ITESO/Logos%20ITESO/Logo-ITESO-Principal.jpg\" align=\"center\" width=\"960\" height=\"480\"/> </center>"
   ]
  },
  {
   "cell_type": "markdown",
   "metadata": {},
   "source": [
    "<center><font color=#555555><font size=6> MAF1731 - Microstructure and Trading Systems </font> <br> <br>\n",
    "    \n",
    "<center><font color=#555555><font size=5> B.Eng Financial Engineering </font> <br> <br> <br> <br>\n",
    "\n",
    "<center><font color=#555555><font size=6> I.F. ALEJANDRO MICHEL MARRÓN </font> <br> <br>\n",
    "   \n",
    "<center> <font color= #555555> <font size = 4> Jun 2021 </a> | <font color= #555555> <font size = 4> Repository: <a href='https://github.com/HKael/myst_amm_lab1'>Link</a></font>"
   ]
  },
  {
   "cell_type": "markdown",
   "metadata": {},
   "source": [
    "<hr style=\"border:0.02in solid gray\"> </hr>"
   ]
  },
  {
   "cell_type": "markdown",
   "metadata": {},
   "source": [
    "<center> <font color= #555555> <font size = 6> Lab 1 </font> <br> <br> <font color= #555555> <font size = 5> NAFTRAC Capital Investment  </font>"
   ]
  },
  {
   "cell_type": "markdown",
   "metadata": {},
   "source": [
    "<hr style=\"border:0.02in solid gray\"> </hr>"
   ]
  },
  {
   "cell_type": "markdown",
   "metadata": {},
   "source": [
    "<br>"
   ]
  },
  {
   "cell_type": "markdown",
   "metadata": {},
   "source": [
    "<font color= #555555> <font size = 4> Abstract </font>"
   ]
  },
  {
   "cell_type": "markdown",
   "metadata": {},
   "source": [
    "<font color= #6B6B6B> <font size = 3>  Include here a description of the whole work, use no more than 400 words, you can use **Bold** and *Italic* highlights, also you can inclue [links](www.iteso.mx). Usually is a good strategy to generate this text at the very end of the process, since you have to include all aspects of the work, from a brief introduction, to problem definitions and methods used, to finally the results found. </font>"
   ]
  },
  {
   "cell_type": "markdown",
   "metadata": {},
   "source": [
    "<br>"
   ]
  },
  {
   "cell_type": "markdown",
   "metadata": {},
   "source": [
    "# <font color= #6B6B6B> <font size = 6> 1. Introduction </font>"
   ]
  },
  {
   "cell_type": "markdown",
   "metadata": {},
   "source": [
    "<hr style=\"border:0.02in solid gray\"> </hr>"
   ]
  },
  {
   "cell_type": "code",
   "execution_count": null,
   "metadata": {},
   "outputs": [],
   "source": [
    "def tickin(start_date ,last_date ):\n",
    "    kay = pd.read_csv(\"files/a/NAFTRAC_20180131.csv\", skiprows=2, header=0)\n",
    "\n",
    "    cash = (kay.iloc[35][\"Peso (%)\"]+kay.iloc[34][\"Peso (%)\"]+kay.iloc[16][\"Peso (%)\"]+kay.iloc[10][\"Peso (%)\"])/100*1000000\n",
    "\n",
    "\n",
    "    kay[\"Ticker\"] = [i.replace(\"*\",\"\") for i in data[\"Ticker\"]]\n",
    "\n",
    "        # Weight as decimal\n",
    "    kay[\"Ticker\"] = kay[\"Ticker\"] + '.MX'\n",
    "    kay = kay.drop([10,16,34,35,36])\n",
    "    kay = kay.sort_values(by=['Ticker'])\n",
    "    cash = cash + sum(kay[\"Peso (%)\"]/100*1000000*0.00125)\n",
    "    dates = fn.f_dates(p_files=dt.files)\n",
    "    fechi = dates[\"i_dates\"][start_date:last_date]\n",
    "    startp = datetime.datetime.strptime(fechi[0], \"%Y-%m-%d\") - datetime.timedelta(days=1)\n",
    "    weight = np.array(kay[\"Peso (%)\"] )\n",
    "    kay[\"Ticker\"] = kay[\"Ticker\"].replace(\"LIVEPOLC.1.MX\", \"LIVEPOLC-1.MX\")\n",
    "    kay[\"Ticker\"] = kay[\"Ticker\"].replace(\"SITESB.1.MX\", \"SITESB-1.MX\") \n",
    "    symbols = np.array(kay[\"Ticker\"])\n",
    "    return "
   ]
  },
  {
   "cell_type": "code",
   "execution_count": null,
   "metadata": {},
   "outputs": [],
   "source": [
    "def pasive_data(symbols, start, end):\n",
    "    price_data = web.get_data_yahoo(symbols,\n",
    "                               start = startp,\n",
    "                               end = fechi[-1], interval='d')\n",
    "    price_data = price_data[\"Adj Close\"]\n",
    "    price_data.index.strftime(\"%Y-%m-%d\")\n",
    "    price_data = price_data.loc[fechi]\n",
    "    ret_data = price_data.pct_change()\n",
    "    weighted_returns = (weight * ret_data)\n",
    "    port_ret = weighted_returns.sum(axis=1)/100\n",
    "    capital = 1000000*(1+port_ret)-cash\n",
    "    cumulative_ret = (port_ret+1).cumprod()-1\n",
    "    return weighted_returns"
   ]
  },
  {
   "cell_type": "code",
   "execution_count": null,
   "metadata": {},
   "outputs": [],
   "source": [
    "def dframe (capital, port_ret, cumulative_ret):\n",
    "    df_pasiva_a = pd.DataFrame()\n",
    "    df_pasiva_a[\"Capital\"] = capital\n",
    "    df_pasiva_a[\"Rendimiento\"] = port_ret\n",
    "    df_pasiva_a[\"Rendimiendo Acumulado\"] = cumulative_ret\n",
    "    return df_pasiva_a"
   ]
  },
  {
   "cell_type": "markdown",
   "metadata": {},
   "source": [
    "This is an introduction, normally, it is done at the very end, when all the other content in the notebook is completed but just before the abstract (which is short version of the introduction) ... "
   ]
  },
  {
   "cell_type": "markdown",
   "metadata": {},
   "source": [
    "<br>"
   ]
  },
  {
   "cell_type": "markdown",
   "metadata": {},
   "source": [
    "# <font color= #6B6B6B> 2. Install/Load Packages and Depedencies </font>"
   ]
  },
  {
   "cell_type": "markdown",
   "metadata": {},
   "source": [
    "<hr style=\"border:0.02in solid gray\"> </hr>"
   ]
  },
  {
   "cell_type": "markdown",
   "metadata": {},
   "source": [
    "<br>"
   ]
  },
  {
   "cell_type": "code",
   "execution_count": 1,
   "metadata": {},
   "outputs": [],
   "source": [
    "import numpy as np\n",
    "import pandas as pd\n",
    "import pandas_datareader as web\n",
    "import yfinance as yf\n",
    "import datetime \n",
    "import time\n",
    "import functions as fn\n",
    "import data as dt\n",
    "import matplotlib.pyplot as plt\n",
    "import main"
   ]
  },
  {
   "cell_type": "markdown",
   "metadata": {},
   "source": [
    "## <font color= #6B6B6B> 2.1 Python Packages </font> <font color= #555555>"
   ]
  },
  {
   "cell_type": "markdown",
   "metadata": {},
   "source": [
    "In order to run this notebook, it is necessary to have installed and/or have the _requirements.txt_ file with the following: "
   ]
  },
  {
   "cell_type": "markdown",
   "metadata": {},
   "source": [
    "- pandas \n",
    "- numpy\n",
    "- jupyter\n",
    "- yfinance \n",
    "- datetime\n",
    "- time\n",
    "- pandas_datareader"
   ]
  },
  {
   "cell_type": "markdown",
   "metadata": {},
   "source": [
    "## <font color= #6B6B6B> 2.2 Files Dependencies </font> <font color= #555555>"
   ]
  },
  {
   "cell_type": "markdown",
   "metadata": {},
   "source": [
    "The following are the file dependencies that are needed to run this notebook:"
   ]
  },
  {
   "cell_type": "markdown",
   "metadata": {},
   "source": [
    "- files/a/precios.csv : Precios históricos prepandemia\n",
    "- files/b/precios.csv : Precios históricos postpandemia\n"
   ]
  },
  {
   "cell_type": "markdown",
   "metadata": {},
   "source": [
    "<br>"
   ]
  },
  {
   "cell_type": "markdown",
   "metadata": {},
   "source": [
    "# <font color= #6B6B6B> 3. Data Description </font>"
   ]
  },
  {
   "cell_type": "markdown",
   "metadata": {},
   "source": [
    "<hr style=\"border:0.02in solid gray\"> </hr>"
   ]
  },
  {
   "cell_type": "markdown",
   "metadata": {},
   "source": [
    "# <font color= #6B6B6B> 4. A particular Process  </font>"
   ]
  },
  {
   "cell_type": "markdown",
   "metadata": {},
   "source": [
    "<hr style=\"border:0.02in solid gray\"> </hr>"
   ]
  },
  {
   "cell_type": "code",
   "execution_count": 3,
   "metadata": {},
   "outputs": [],
   "source": [
    "# DELETE THIS CELL IN YOUR FILE\n",
    "\n",
    "# A particular process that is relevant for the work you are presenting."
   ]
  },
  {
   "cell_type": "code",
   "execution_count": 4,
   "metadata": {},
   "outputs": [
    {
     "data": {
      "text/html": [
       "<div>\n",
       "<style scoped>\n",
       "    .dataframe tbody tr th:only-of-type {\n",
       "        vertical-align: middle;\n",
       "    }\n",
       "\n",
       "    .dataframe tbody tr th {\n",
       "        vertical-align: top;\n",
       "    }\n",
       "\n",
       "    .dataframe thead th {\n",
       "        text-align: right;\n",
       "    }\n",
       "</style>\n",
       "<table border=\"1\" class=\"dataframe\">\n",
       "  <thead>\n",
       "    <tr style=\"text-align: right;\">\n",
       "      <th></th>\n",
       "      <th>Capital</th>\n",
       "      <th>Rendimiento</th>\n",
       "      <th>Rendimiendo Acumulado</th>\n",
       "    </tr>\n",
       "    <tr>\n",
       "      <th>Date</th>\n",
       "      <th></th>\n",
       "      <th></th>\n",
       "      <th></th>\n",
       "    </tr>\n",
       "  </thead>\n",
       "  <tbody>\n",
       "    <tr>\n",
       "      <th>2018-01-31</th>\n",
       "      <td>9.539060e+05</td>\n",
       "      <td>0.000000</td>\n",
       "      <td>0.000000</td>\n",
       "    </tr>\n",
       "    <tr>\n",
       "      <th>2018-02-28</th>\n",
       "      <td>9.018408e+05</td>\n",
       "      <td>-0.052065</td>\n",
       "      <td>-0.052065</td>\n",
       "    </tr>\n",
       "    <tr>\n",
       "      <th>2018-03-28</th>\n",
       "      <td>9.295121e+05</td>\n",
       "      <td>-0.024394</td>\n",
       "      <td>-0.075189</td>\n",
       "    </tr>\n",
       "    <tr>\n",
       "      <th>2018-04-30</th>\n",
       "      <td>1.000486e+06</td>\n",
       "      <td>0.046580</td>\n",
       "      <td>-0.032111</td>\n",
       "    </tr>\n",
       "    <tr>\n",
       "      <th>2018-05-31</th>\n",
       "      <td>8.828742e+05</td>\n",
       "      <td>-0.071032</td>\n",
       "      <td>-0.100862</td>\n",
       "    </tr>\n",
       "    <tr>\n",
       "      <th>2018-06-29</th>\n",
       "      <td>1.030054e+06</td>\n",
       "      <td>0.076148</td>\n",
       "      <td>-0.032394</td>\n",
       "    </tr>\n",
       "    <tr>\n",
       "      <th>2018-07-31</th>\n",
       "      <td>9.919567e+05</td>\n",
       "      <td>0.038051</td>\n",
       "      <td>0.004424</td>\n",
       "    </tr>\n",
       "    <tr>\n",
       "      <th>2018-08-31</th>\n",
       "      <td>9.563928e+05</td>\n",
       "      <td>0.002487</td>\n",
       "      <td>0.006921</td>\n",
       "    </tr>\n",
       "    <tr>\n",
       "      <th>2018-09-28</th>\n",
       "      <td>9.495272e+05</td>\n",
       "      <td>-0.004379</td>\n",
       "      <td>0.002512</td>\n",
       "    </tr>\n",
       "    <tr>\n",
       "      <th>2018-10-31</th>\n",
       "      <td>8.480049e+05</td>\n",
       "      <td>-0.105901</td>\n",
       "      <td>-0.103655</td>\n",
       "    </tr>\n",
       "    <tr>\n",
       "      <th>2018-11-30</th>\n",
       "      <td>9.129309e+05</td>\n",
       "      <td>-0.040975</td>\n",
       "      <td>-0.140383</td>\n",
       "    </tr>\n",
       "    <tr>\n",
       "      <th>2018-12-31</th>\n",
       "      <td>9.477540e+05</td>\n",
       "      <td>-0.006152</td>\n",
       "      <td>-0.145671</td>\n",
       "    </tr>\n",
       "    <tr>\n",
       "      <th>2019-01-31</th>\n",
       "      <td>1.013969e+06</td>\n",
       "      <td>0.060063</td>\n",
       "      <td>-0.094357</td>\n",
       "    </tr>\n",
       "    <tr>\n",
       "      <th>2019-02-28</th>\n",
       "      <td>9.350891e+05</td>\n",
       "      <td>-0.018817</td>\n",
       "      <td>-0.111399</td>\n",
       "    </tr>\n",
       "    <tr>\n",
       "      <th>2019-03-29</th>\n",
       "      <td>9.682070e+05</td>\n",
       "      <td>0.014301</td>\n",
       "      <td>-0.098691</td>\n",
       "    </tr>\n",
       "    <tr>\n",
       "      <th>2019-04-30</th>\n",
       "      <td>9.750181e+05</td>\n",
       "      <td>0.021112</td>\n",
       "      <td>-0.079662</td>\n",
       "    </tr>\n",
       "    <tr>\n",
       "      <th>2019-05-31</th>\n",
       "      <td>9.182260e+05</td>\n",
       "      <td>-0.035680</td>\n",
       "      <td>-0.112500</td>\n",
       "    </tr>\n",
       "    <tr>\n",
       "      <th>2019-06-28</th>\n",
       "      <td>9.646902e+05</td>\n",
       "      <td>0.010784</td>\n",
       "      <td>-0.102929</td>\n",
       "    </tr>\n",
       "    <tr>\n",
       "      <th>2019-07-31</th>\n",
       "      <td>9.139457e+05</td>\n",
       "      <td>-0.039960</td>\n",
       "      <td>-0.138776</td>\n",
       "    </tr>\n",
       "    <tr>\n",
       "      <th>2019-08-30</th>\n",
       "      <td>9.983004e+05</td>\n",
       "      <td>0.044394</td>\n",
       "      <td>-0.100543</td>\n",
       "    </tr>\n",
       "    <tr>\n",
       "      <th>2019-09-30</th>\n",
       "      <td>9.677827e+05</td>\n",
       "      <td>0.013877</td>\n",
       "      <td>-0.088061</td>\n",
       "    </tr>\n",
       "    <tr>\n",
       "      <th>2019-10-31</th>\n",
       "      <td>9.731267e+05</td>\n",
       "      <td>0.019221</td>\n",
       "      <td>-0.070533</td>\n",
       "    </tr>\n",
       "    <tr>\n",
       "      <th>2019-11-29</th>\n",
       "      <td>9.498350e+05</td>\n",
       "      <td>-0.004071</td>\n",
       "      <td>-0.074317</td>\n",
       "    </tr>\n",
       "    <tr>\n",
       "      <th>2019-12-31</th>\n",
       "      <td>9.725417e+05</td>\n",
       "      <td>0.018636</td>\n",
       "      <td>-0.057066</td>\n",
       "    </tr>\n",
       "    <tr>\n",
       "      <th>2020-01-31</th>\n",
       "      <td>9.638951e+05</td>\n",
       "      <td>0.009989</td>\n",
       "      <td>-0.047647</td>\n",
       "    </tr>\n",
       "  </tbody>\n",
       "</table>\n",
       "</div>"
      ],
      "text/plain": [
       "                 Capital  Rendimiento  Rendimiendo Acumulado\n",
       "Date                                                        \n",
       "2018-01-31  9.539060e+05     0.000000               0.000000\n",
       "2018-02-28  9.018408e+05    -0.052065              -0.052065\n",
       "2018-03-28  9.295121e+05    -0.024394              -0.075189\n",
       "2018-04-30  1.000486e+06     0.046580              -0.032111\n",
       "2018-05-31  8.828742e+05    -0.071032              -0.100862\n",
       "2018-06-29  1.030054e+06     0.076148              -0.032394\n",
       "2018-07-31  9.919567e+05     0.038051               0.004424\n",
       "2018-08-31  9.563928e+05     0.002487               0.006921\n",
       "2018-09-28  9.495272e+05    -0.004379               0.002512\n",
       "2018-10-31  8.480049e+05    -0.105901              -0.103655\n",
       "2018-11-30  9.129309e+05    -0.040975              -0.140383\n",
       "2018-12-31  9.477540e+05    -0.006152              -0.145671\n",
       "2019-01-31  1.013969e+06     0.060063              -0.094357\n",
       "2019-02-28  9.350891e+05    -0.018817              -0.111399\n",
       "2019-03-29  9.682070e+05     0.014301              -0.098691\n",
       "2019-04-30  9.750181e+05     0.021112              -0.079662\n",
       "2019-05-31  9.182260e+05    -0.035680              -0.112500\n",
       "2019-06-28  9.646902e+05     0.010784              -0.102929\n",
       "2019-07-31  9.139457e+05    -0.039960              -0.138776\n",
       "2019-08-30  9.983004e+05     0.044394              -0.100543\n",
       "2019-09-30  9.677827e+05     0.013877              -0.088061\n",
       "2019-10-31  9.731267e+05     0.019221              -0.070533\n",
       "2019-11-29  9.498350e+05    -0.004071              -0.074317\n",
       "2019-12-31  9.725417e+05     0.018636              -0.057066\n",
       "2020-01-31  9.638951e+05     0.009989              -0.047647"
      ]
     },
     "execution_count": 4,
     "metadata": {},
     "output_type": "execute_result"
    }
   ],
   "source": [
    "from main import df_pasiva_a\n",
    "df_pasiva_a"
   ]
  },
  {
   "cell_type": "code",
   "execution_count": 6,
   "metadata": {},
   "outputs": [
    {
     "data": {
      "text/html": [
       "<div>\n",
       "<style scoped>\n",
       "    .dataframe tbody tr th:only-of-type {\n",
       "        vertical-align: middle;\n",
       "    }\n",
       "\n",
       "    .dataframe tbody tr th {\n",
       "        vertical-align: top;\n",
       "    }\n",
       "\n",
       "    .dataframe thead th {\n",
       "        text-align: right;\n",
       "    }\n",
       "</style>\n",
       "<table border=\"1\" class=\"dataframe\">\n",
       "  <thead>\n",
       "    <tr style=\"text-align: right;\">\n",
       "      <th></th>\n",
       "      <th>Capital</th>\n",
       "      <th>Rendimiento</th>\n",
       "      <th>Rendimiendo Acumulado</th>\n",
       "    </tr>\n",
       "    <tr>\n",
       "      <th>Date</th>\n",
       "      <th></th>\n",
       "      <th></th>\n",
       "      <th></th>\n",
       "    </tr>\n",
       "  </thead>\n",
       "  <tbody>\n",
       "    <tr>\n",
       "      <th>2020-02-28</th>\n",
       "      <td>9.539060e+05</td>\n",
       "      <td>0.000000</td>\n",
       "      <td>0.000000</td>\n",
       "    </tr>\n",
       "    <tr>\n",
       "      <th>2020-03-31</th>\n",
       "      <td>8.120022e+05</td>\n",
       "      <td>-0.141904</td>\n",
       "      <td>-0.141904</td>\n",
       "    </tr>\n",
       "    <tr>\n",
       "      <th>2020-04-30</th>\n",
       "      <td>1.022605e+06</td>\n",
       "      <td>0.068699</td>\n",
       "      <td>-0.082953</td>\n",
       "    </tr>\n",
       "    <tr>\n",
       "      <th>2020-05-29</th>\n",
       "      <td>9.498217e+05</td>\n",
       "      <td>-0.004084</td>\n",
       "      <td>-0.086699</td>\n",
       "    </tr>\n",
       "    <tr>\n",
       "      <th>2020-06-30</th>\n",
       "      <td>1.012228e+06</td>\n",
       "      <td>0.058322</td>\n",
       "      <td>-0.033433</td>\n",
       "    </tr>\n",
       "    <tr>\n",
       "      <th>2020-07-31</th>\n",
       "      <td>9.524649e+05</td>\n",
       "      <td>-0.001441</td>\n",
       "      <td>-0.034826</td>\n",
       "    </tr>\n",
       "    <tr>\n",
       "      <th>2020-08-31</th>\n",
       "      <td>9.607853e+05</td>\n",
       "      <td>0.006879</td>\n",
       "      <td>-0.028186</td>\n",
       "    </tr>\n",
       "    <tr>\n",
       "      <th>2020-09-30</th>\n",
       "      <td>9.756084e+05</td>\n",
       "      <td>0.021702</td>\n",
       "      <td>-0.007095</td>\n",
       "    </tr>\n",
       "    <tr>\n",
       "      <th>2020-10-30</th>\n",
       "      <td>9.537261e+05</td>\n",
       "      <td>-0.000180</td>\n",
       "      <td>-0.007274</td>\n",
       "    </tr>\n",
       "    <tr>\n",
       "      <th>2020-11-30</th>\n",
       "      <td>1.095235e+06</td>\n",
       "      <td>0.141329</td>\n",
       "      <td>0.133027</td>\n",
       "    </tr>\n",
       "    <tr>\n",
       "      <th>2020-12-31</th>\n",
       "      <td>1.011293e+06</td>\n",
       "      <td>0.057387</td>\n",
       "      <td>0.198048</td>\n",
       "    </tr>\n",
       "    <tr>\n",
       "      <th>2021-01-29</th>\n",
       "      <td>9.407716e+05</td>\n",
       "      <td>-0.013134</td>\n",
       "      <td>0.182313</td>\n",
       "    </tr>\n",
       "    <tr>\n",
       "      <th>2021-02-26</th>\n",
       "      <td>9.951183e+05</td>\n",
       "      <td>0.041212</td>\n",
       "      <td>0.231039</td>\n",
       "    </tr>\n",
       "    <tr>\n",
       "      <th>2021-03-31</th>\n",
       "      <td>1.015050e+06</td>\n",
       "      <td>0.061144</td>\n",
       "      <td>0.306309</td>\n",
       "    </tr>\n",
       "  </tbody>\n",
       "</table>\n",
       "</div>"
      ],
      "text/plain": [
       "                 Capital  Rendimiento  Rendimiendo Acumulado\n",
       "Date                                                        \n",
       "2020-02-28  9.539060e+05     0.000000               0.000000\n",
       "2020-03-31  8.120022e+05    -0.141904              -0.141904\n",
       "2020-04-30  1.022605e+06     0.068699              -0.082953\n",
       "2020-05-29  9.498217e+05    -0.004084              -0.086699\n",
       "2020-06-30  1.012228e+06     0.058322              -0.033433\n",
       "2020-07-31  9.524649e+05    -0.001441              -0.034826\n",
       "2020-08-31  9.607853e+05     0.006879              -0.028186\n",
       "2020-09-30  9.756084e+05     0.021702              -0.007095\n",
       "2020-10-30  9.537261e+05    -0.000180              -0.007274\n",
       "2020-11-30  1.095235e+06     0.141329               0.133027\n",
       "2020-12-31  1.011293e+06     0.057387               0.198048\n",
       "2021-01-29  9.407716e+05    -0.013134               0.182313\n",
       "2021-02-26  9.951183e+05     0.041212               0.231039\n",
       "2021-03-31  1.015050e+06     0.061144               0.306309"
      ]
     },
     "execution_count": 6,
     "metadata": {},
     "output_type": "execute_result"
    }
   ],
   "source": [
    "from main import df_pasiva_b\n",
    "df_pasiva_b"
   ]
  },
  {
   "cell_type": "markdown",
   "metadata": {},
   "source": [
    "<br>"
   ]
  },
  {
   "cell_type": "markdown",
   "metadata": {},
   "source": [
    "# <font color= #6B6B6B> 5. Another particular Process  </font>"
   ]
  },
  {
   "cell_type": "markdown",
   "metadata": {},
   "source": [
    "<hr style=\"border:0.02in solid gray\"> </hr>"
   ]
  },
  {
   "cell_type": "code",
   "execution_count": 4,
   "metadata": {},
   "outputs": [],
   "source": [
    "# DELETE THIS CELL IN YOUR FILE\n",
    "\n",
    "# Another particular process that is relevant for the work. Normally, you include between 2 and 5 at the most."
   ]
  },
  {
   "cell_type": "markdown",
   "metadata": {},
   "source": [
    "<br>"
   ]
  },
  {
   "cell_type": "markdown",
   "metadata": {},
   "source": [
    "# <font color= #6B6B6B> <font size = 6> 5. Results </font>"
   ]
  },
  {
   "cell_type": "markdown",
   "metadata": {},
   "source": [
    "<hr style=\"border:0.02in solid gray\"> </hr>"
   ]
  },
  {
   "cell_type": "code",
   "execution_count": 5,
   "metadata": {},
   "outputs": [],
   "source": [
    "# DELETE THIS CELL IN YOUR FILE\n",
    "\n",
    "# In here you present the general results, and also, a discussion of such results."
   ]
  },
  {
   "cell_type": "markdown",
   "metadata": {},
   "source": [
    "<br>"
   ]
  },
  {
   "cell_type": "markdown",
   "metadata": {},
   "source": [
    "## <font color= #6B6B6B> 5.1 Results of first processes </font>"
   ]
  },
  {
   "cell_type": "code",
   "execution_count": null,
   "metadata": {},
   "outputs": [],
   "source": [
    "# DELETE THIS CELL IN YOUR FILE\n",
    "\n",
    "# Separate your results according to the main processes you are working on"
   ]
  },
  {
   "cell_type": "markdown",
   "metadata": {},
   "source": [
    "<br>"
   ]
  },
  {
   "cell_type": "markdown",
   "metadata": {},
   "source": [
    "## <font color= #6B6B6B> 5.2 Results of another proces </font>"
   ]
  },
  {
   "cell_type": "code",
   "execution_count": 13,
   "metadata": {},
   "outputs": [],
   "source": [
    "# DELETE THIS CELL IN YOUR FILE\n",
    "\n",
    "# You can have several processes with which you are obtaining the results you need."
   ]
  },
  {
   "cell_type": "markdown",
   "metadata": {},
   "source": [
    "<br>"
   ]
  },
  {
   "cell_type": "markdown",
   "metadata": {},
   "source": [
    "# <font color= #6B6B6B> <font size = 6> 6. References </font>"
   ]
  },
  {
   "cell_type": "markdown",
   "metadata": {},
   "source": [
    "<hr style=\"border:0.02in solid gray\"> </hr>"
   ]
  },
  {
   "cell_type": "code",
   "execution_count": 6,
   "metadata": {},
   "outputs": [],
   "source": [
    "# DELETE THIS CELL IN YOUR FILE\n",
    "\n",
    "# Citations, and other references you are using.\n",
    "\n",
    "# DO INCLUDE THE FOLLOWING CITATION FOR THIS TEMPLATE"
   ]
  },
  {
   "cell_type": "markdown",
   "metadata": {},
   "source": [
    "[1] Munnoz, 2020. Python project template. https://github.com/iffranciscome/python-project. (2021)."
   ]
  },
  {
   "cell_type": "markdown",
   "metadata": {},
   "source": [
    "<br>"
   ]
  }
 ],
 "metadata": {
  "kernelspec": {
   "display_name": "Python 3",
   "language": "python",
   "name": "python3"
  },
  "language_info": {
   "codemirror_mode": {
    "name": "ipython",
    "version": 3
   },
   "file_extension": ".py",
   "mimetype": "text/x-python",
   "name": "python",
   "nbconvert_exporter": "python",
   "pygments_lexer": "ipython3",
   "version": "3.8.8"
  }
 },
 "nbformat": 4,
 "nbformat_minor": 4
}
