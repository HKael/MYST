{
 "cells": [
  {
   "cell_type": "markdown",
   "metadata": {},
   "source": [
    "<center> <img src=\"http://oci02.img.iteso.mx/identidad_de_instancia_2018/ITESO/Logos%20ITESO/Logo-ITESO-Principal.jpg\" align=\"center\" width=\"960\" height=\"480\"/> </center>"
   ]
  },
  {
   "cell_type": "markdown",
   "metadata": {},
   "source": [
    "<center><font color=#555555><font size=6> MAF1731 - Microstructure and Trading Systems </font> <br> <br>\n",
    "    \n",
    "<center><font color=#555555><font size=5> B.Eng Financial Engineering </font> <br> <br> <br> <br>\n",
    "\n",
    "<center><font color=#555555><font size=6> I.F. ALEJANDRO MICHEL MARRÓN </font> <br> <br>\n",
    "   \n",
    "<center> <font color= #555555> <font size = 4> Jun 2021 </a> | <font color= #555555> <font size = 4> Repository: <a href='https://github.com/HKael/myst_amm_lab1'>Link</a></font>"
   ]
  },
  {
   "cell_type": "markdown",
   "metadata": {},
   "source": [
    "<hr style=\"border:0.02in solid gray\"> </hr>"
   ]
  },
  {
   "cell_type": "markdown",
   "metadata": {},
   "source": [
    "<center> <font color= #555555> <font size = 6> Lab 1 </font> <br> <br> <font color= #555555> <font size = 5> NAFTRAC Capital Investment  </font>"
   ]
  },
  {
   "cell_type": "markdown",
   "metadata": {},
   "source": [
    "<hr style=\"border:0.02in solid gray\"> </hr>"
   ]
  },
  {
   "cell_type": "markdown",
   "metadata": {},
   "source": [
    "<br>"
   ]
  },
  {
   "cell_type": "markdown",
   "metadata": {},
   "source": [
    "<font color= #555555> <font size = 6> Abstract </font>"
   ]
  },
  {
   "cell_type": "markdown",
   "metadata": {},
   "source": [
    "<font color= #6B6B6B> <font size = 4>  \n",
    "    \n",
    "#### Investors have two main investment strategies that can be used to generate a return on their investment accounts:<a href='https://www.investopedia.com/ask/answers/040315/what-difference-between-passive-and-active-portfolio-management.asp#:~:text=Active%20portfolio%20management%20focuses%20on,order%20to%20achieve%20similar%20results'> active portfolio management and passive portfolio management.</a> \n",
    "\n",
    "- Active portfolio management focuses on outperforming the market in comparison to a specific benchmark such as the Standard & Poor's 500 Index.\n",
    "- Passive portfolio management mimics the investment holdings of a particular index in order to achieve similar results.\n",
    "\n",
    "#### In this document, the most optimal way to invest between this two options is explored with a practical case. \n",
    "    \n"
   ]
  },
  {
   "cell_type": "markdown",
   "metadata": {},
   "source": [
    "<hr style=\"border:0.02in solid gray\"> </hr>"
   ]
  },
  {
   "cell_type": "markdown",
   "metadata": {},
   "source": [
    "<br>"
   ]
  },
  {
   "cell_type": "markdown",
   "metadata": {},
   "source": [
    "# <font color= #6B6B6B> <font size = 6> 1. Introduction </font>"
   ]
  },
  {
   "cell_type": "markdown",
   "metadata": {},
   "source": [
    "<hr style=\"border:0.02in solid gray\"> </hr>"
   ]
  },
  {
   "cell_type": "markdown",
   "metadata": {},
   "source": [
    "#### The central premise of this document is the question, \"What investment strategy would you propose if your job were to invest 1 million pesos?\", which will be simplified in a comparison of two different strategies, passive investment and active investment.\n",
    "\n",
    "#### In order to make a comparison between a passive investment strategy and an active investment strategy, basic performance attribution measures were considered. Which are the following:\n",
    "\n",
    "- <a href='https://www.investopedia.com/terms/y/yield.asp'>Monthly yield</a>\n",
    "- <a href='https://www.investopedia.com/terms/c/cumulativereturn.asp'>Cumulative monthly return</a>\n",
    "- <a href='https://www.investopedia.com/terms/s/sharperatio.asp'>Sharpe ratio</a>\n",
    "\n",
    "#### The question will be answered through an applied problem, which is the following:\n",
    "\n",
    "You have 1 million pesos, you have two options to invest them. On the one hand, you can make a Passive Investment of the capital, buying 100% of the capital of securities of an ETF that replicates the Mexican equity market S & P / BMV IPC, which is the NAFTRAC. But on the other hand, you can make an Active Capital Investment, by creating a portfolio that has the same assets as the ETF and rebalancing through a specific algorithm.\n",
    "\n",
    "iShares NAFTRAC ISHRS is an exchange traded fund (ETF) incorporated in Mexico. The Fund aims to hold all the common stocks of the Mexican Stock Exchange (IPC) Index, and is intended to replicate investment results that generally correspond to the price and yield performance of the MEXBOL (IPC) Index.\n",
    "\n",
    "The passive investment strategy is divided in two periods:\n",
    "- Pre-pandemic: 01-31-2018 to 01-31-2020\n",
    "- In-pandemic: 02-28-2020 to 02-28-2021\n",
    "\n",
    "While the active investment strategy is composed by one period only:\n",
    "- 31-01-2018 hasta 28-02-2021\n",
    "\n",
    "More specific data will be presented throughout the following document.\n",
    "    \n",
    "\n",
    "    "
   ]
  },
  {
   "cell_type": "markdown",
   "metadata": {},
   "source": [
    "<hr style=\"border:0.02in solid gray\"> </hr>"
   ]
  },
  {
   "cell_type": "markdown",
   "metadata": {},
   "source": [
    "<br>"
   ]
  },
  {
   "cell_type": "markdown",
   "metadata": {},
   "source": [
    "# <font color= #6B6B6B> 2. Install/Load Packages and Depedencies </font>"
   ]
  },
  {
   "cell_type": "markdown",
   "metadata": {},
   "source": [
    "<hr style=\"border:0.02in solid gray\"> </hr>"
   ]
  },
  {
   "cell_type": "markdown",
   "metadata": {},
   "source": [
    "<br>"
   ]
  },
  {
   "cell_type": "markdown",
   "metadata": {},
   "source": [
    "### Below you'll find available the packages and dependencies used in the making and running of the notebook."
   ]
  },
  {
   "cell_type": "code",
   "execution_count": null,
   "metadata": {},
   "outputs": [
    {
     "name": "stdout",
     "output_type": "stream",
     "text": [
      "['2018-01-31', '2018-02-28', '2018-03-28', '2018-04-30']\n",
      "['31-01-2018', '28-02-2018', '28-03-2018', '30-04-2018']\n",
      "['AC.MX', 'ALFAA.MX', 'ALPEKA.MX', 'ALSEA.MX']\n",
      "[*********************100%***********************]  39 of 39 completed\n",
      "\n",
      "1 Failed download:\n",
      "-  .MX: No data found, symbol may be delisted\n"
     ]
    }
   ],
   "source": [
    "import numpy as np\n",
    "import pandas as pd\n",
    "import pandas_datareader as web\n",
    "import yfinance as yf\n",
    "import datetime \n",
    "import time\n",
    "import functions as fn\n",
    "import data \n",
    "import matplotlib.pyplot as plt\n",
    "import main\n",
    "pd.set_option('display.float_format', '{:.4f}'.format)\n",
    "from main import df_pasiva_a\n",
    "from main import df_pasiva_b\n",
    "from main import df_activa\n",
    "from main import dates\n",
    "from main import global_tickers\n",
    "from main import global_prices\n",
    "from main import precios\n",
    "from data import files\n",
    "from data import data_files\n",
    "from data import data\n",
    "from data import initialdata\n",
    "from plotly.offline import iplot   \n",
    "import plotly.graph_objects as go"
   ]
  },
  {
   "cell_type": "markdown",
   "metadata": {},
   "source": [
    "<hr style=\"border:0.02in solid gray\"> </hr>"
   ]
  },
  {
   "cell_type": "markdown",
   "metadata": {},
   "source": [
    "## <font color= #6B6B6B> 2.1 Python Packages </font> <font color= #555555>"
   ]
  },
  {
   "cell_type": "markdown",
   "metadata": {},
   "source": [
    "<hr style=\"border:0.02in solid gray\"> </hr>"
   ]
  },
  {
   "cell_type": "markdown",
   "metadata": {},
   "source": [
    "In order to run this notebook, it is necessary to have installed and/or have the _requirements.txt_ file with the following: "
   ]
  },
  {
   "cell_type": "markdown",
   "metadata": {},
   "source": [
    "- pandas \n",
    "- numpy\n",
    "- jupyter\n",
    "- yfinance \n",
    "- datetime\n",
    "- time\n",
    "- pandas_datareader\n",
    "- plotly"
   ]
  },
  {
   "cell_type": "markdown",
   "metadata": {},
   "source": [
    "## <font color= #6B6B6B> 2.2 Files Dependencies </font> <font color= #555555>"
   ]
  },
  {
   "cell_type": "markdown",
   "metadata": {},
   "source": [
    "The following are the file dependencies that are needed to run this notebook:"
   ]
  },
  {
   "cell_type": "markdown",
   "metadata": {},
   "source": [
    "- files/a/precios.csv : Precios históricos prepandemia\n",
    "- files/b/precios.csv : Precios históricos postpandemia\n"
   ]
  },
  {
   "cell_type": "markdown",
   "metadata": {},
   "source": [
    "<hr style=\"border:0.02in solid gray\"> </hr>"
   ]
  },
  {
   "cell_type": "markdown",
   "metadata": {},
   "source": [
    "<br>"
   ]
  },
  {
   "cell_type": "markdown",
   "metadata": {},
   "source": [
    "# <font color= #6B6B6B> 3. Data Description </font>"
   ]
  },
  {
   "cell_type": "markdown",
   "metadata": {},
   "source": [
    "<hr style=\"border:0.02in solid gray\"> </hr>"
   ]
  },
  {
   "cell_type": "markdown",
   "metadata": {},
   "source": [
    "#### In this segment the data used to build the investment strategies is shown and described."
   ]
  },
  {
   "cell_type": "markdown",
   "metadata": {},
   "source": [
    "#### First we have the files that were used, this are historical data records of the NAFTRAC. Downloaded monthly to build the passive strategy. "
   ]
  },
  {
   "cell_type": "code",
   "execution_count": null,
   "metadata": {},
   "outputs": [],
   "source": [
    "print(files)"
   ]
  },
  {
   "cell_type": "markdown",
   "metadata": {},
   "source": [
    "#### There are 39 files taken into account, according to the period previously established in the introduction."
   ]
  },
  {
   "cell_type": "code",
   "execution_count": null,
   "metadata": {},
   "outputs": [],
   "source": [
    "len(data_files)"
   ]
  },
  {
   "cell_type": "code",
   "execution_count": null,
   "metadata": {},
   "outputs": [],
   "source": [
    "print(dates)"
   ]
  },
  {
   "cell_type": "markdown",
   "metadata": {},
   "source": [
    "#### Below the tickers of the individual common stocks of the Mexican Stock Exchange, which the NAFTRAC is composed of, are shown."
   ]
  },
  {
   "cell_type": "code",
   "execution_count": null,
   "metadata": {},
   "outputs": [],
   "source": [
    "print(global_tickers)"
   ]
  },
  {
   "cell_type": "markdown",
   "metadata": {},
   "source": [
    "#### The weight, price, value and some more characteristics each individual stock are shown below. Describing the data that will be used."
   ]
  },
  {
   "cell_type": "code",
   "execution_count": null,
   "metadata": {},
   "outputs": [],
   "source": [
    "data.head()"
   ]
  },
  {
   "cell_type": "code",
   "execution_count": null,
   "metadata": {},
   "outputs": [],
   "source": []
  },
  {
   "cell_type": "markdown",
   "metadata": {},
   "source": [
    "<hr style=\"border:0.02in solid gray\"> </hr>"
   ]
  },
  {
   "cell_type": "markdown",
   "metadata": {},
   "source": [
    "# <font color= #6B6B6B> 4. Passive investing </font>"
   ]
  },
  {
   "cell_type": "markdown",
   "metadata": {},
   "source": [
    "<hr style=\"border:0.02in solid gray\"> </hr>"
   ]
  },
  {
   "cell_type": "markdown",
   "metadata": {},
   "source": [
    "<font color= #6B6B6B> Passive portfolio management is also referred to as index fund management.\n",
    "\n",
    "<font color= #6B6B6B>The portfolio is designed to parallel the returns of a particular market index or benchmark as closely as possible. For example, each stock listed on an index is weighted. That is, it represents a percentage of the index that is commensurate with its size and influence in the real world. The creator of an index portfolio will use the same weights.\n",
    "\n",
    "<font color= #6B6B6B>The purpose of passive portfolio management is to generate a return that is the same as the chosen index.\n",
    "\n",
    "<font color= #6B6B6B>A passive strategy does not have a management team making investment decisions and can be structured as an exchange-traded fund (ETF), a mutual fund, or a unit investment trust.\n",
    "    "
   ]
  },
  {
   "cell_type": "markdown",
   "metadata": {},
   "source": [
    "##### The following conditions were implemented:\n",
    "\n",
    "- An ETF, NAFTRAC, which represents the S & P / BMV IPC, is used as a reference.\n",
    "- Only buy operations (long position) are allowed.\n",
    "- The operations are executed at the market price and a single purchase or sale price is considered for all the securities in the operation.\n",
    "- Initial capital of 1 million pesos.\n",
    "- The weights of the first file were used.\n",
    "- No rebalances during the entire analysis period.\n",
    "- In all the months (files) the % of capital indicated for KOFL.MX, KOFUBL.MX, USD.MXN, BSMXB.MX, NMKA.MX were eliminated from the historical positions and considered it as CASH."
   ]
  },
  {
   "cell_type": "code",
   "execution_count": null,
   "metadata": {},
   "outputs": [],
   "source": [
    "initialdata[\"Peso (%)\"].describe()"
   ]
  },
  {
   "cell_type": "code",
   "execution_count": null,
   "metadata": {},
   "outputs": [],
   "source": [
    "# basic plotly plot\n",
    "data = [go.Bar(x=initialdata[\"Ticker\"], y=data[\"Peso (%)\"])]\n",
    "# instruction to view it inside jupyter\n",
    "iplot(data)"
   ]
  },
  {
   "cell_type": "code",
   "execution_count": null,
   "metadata": {},
   "outputs": [],
   "source": [
    "# PASIVA 1\n",
    "df_pasiva_a"
   ]
  },
  {
   "cell_type": "code",
   "execution_count": null,
   "metadata": {},
   "outputs": [],
   "source": [
    "df_pasiva_a.describe()"
   ]
  },
  {
   "cell_type": "markdown",
   "metadata": {},
   "source": [
    "#### Overall we see a negative mean yield, relatively small, less than 1% with a ~4% STD, not a volatile portfolio. We can infer it is successfully accomplishing its purpose with this low volatility."
   ]
  },
  {
   "cell_type": "code",
   "execution_count": null,
   "metadata": {},
   "outputs": [],
   "source": [
    "# basic plotly plot\n",
    "data = [go.Bar(x=df_pasiva_a.index, y=df_pasiva_a.Rendimiento)]\n",
    "# instruction to view it inside jupyter\n",
    "iplot(data)"
   ]
  },
  {
   "cell_type": "code",
   "execution_count": null,
   "metadata": {},
   "outputs": [],
   "source": [
    "# PASIVA 2\n",
    "df_pasiva_b"
   ]
  },
  {
   "cell_type": "code",
   "execution_count": null,
   "metadata": {},
   "outputs": [],
   "source": [
    "df_pasiva_b.describe()"
   ]
  },
  {
   "cell_type": "markdown",
   "metadata": {},
   "source": [
    "#### Overall we see a positive mean yield, relatively small, more than 2%, with a ~6% STD, not a volatile portfolio. We can infer it is successfully accomplishing its purpose with this low volatility.\n",
    "\n",
    "\n",
    "#### It is interesting to note that during the pandemic, when the economy is supposedly at its worse, it started to follow a positive trend."
   ]
  },
  {
   "cell_type": "code",
   "execution_count": null,
   "metadata": {},
   "outputs": [],
   "source": [
    "# basic plotly plot\n",
    "data = [go.Bar(x=df_pasiva_b.index, y=df_pasiva_b.Rendimiento)]\n",
    "# instruction to view it inside jupyter\n",
    "iplot(data)"
   ]
  },
  {
   "cell_type": "markdown",
   "metadata": {},
   "source": [
    "#### Overall we can visually see that while the returns overall were not all that positive it maintained its value relatively well."
   ]
  },
  {
   "cell_type": "markdown",
   "metadata": {},
   "source": [
    "<hr style=\"border:0.02in solid gray\"> </hr>"
   ]
  },
  {
   "cell_type": "markdown",
   "metadata": {},
   "source": [
    "# <font color= #6B6B6B> 5. Active investment </font>"
   ]
  },
  {
   "cell_type": "markdown",
   "metadata": {},
   "source": [
    "<hr style=\"border:0.02in solid gray\"> </hr>"
   ]
  },
  {
   "cell_type": "markdown",
   "metadata": {},
   "source": [
    "<font color= #6B6B6B>  The investor who follows an active portfolio management strategy buys and sells stocks in an attempt to outperform a specific index, such as the Standard & Poor's 500 Index or the Russell 1000 Index. In this particular case de iShare NAFTRAC.\n",
    "\n",
    "<font color= #6B6B6B>  An actively managed investment fund has an individual portfolio manager, co-managers, or a team of managers all making investment decisions for the fund. The success of the fund depends on in-depth research, market forecasting, and the expertise of the management team.\n",
    "\n",
    "<font color= #6B6B6B>  Portfolio managers engaged in active investing follow market trends, shifts in the economy, changes to the political landscape, and any other factors that may affect specific companies. This data is used to time the purchase or sale of assets."
   ]
  },
  {
   "cell_type": "markdown",
   "metadata": {},
   "source": [
    "##### The following conditions and considerations were implemented:\n",
    "\n",
    "- An ETF, NAFTRAC, which represents the S & P / BMV IPC, is used as a reference.\n",
    "- The commissions to be paid for each rebalancing are considered = 0.00125 of the value of the operation (securities * price * commission).\n",
    "- Only buy operations (long position) are allowed.\n",
    "- The operations are executed at the market price and a single purchase or sale price is considered for all the securities in the operation.\n",
    "- Initial capital of 1 million pesos.\n",
    "- The weights of the first file were used.\n",
    "- No rebalances during the entire analysis period.\n",
    "- In all the months (files) the % of capital indicated for KOFL.MX, KOFUBL.MX, USD.MXN, BSMXB.MX, NMKA.MX were eliminated from the historical positions and considered it as CASH.\n",
    "- With the capital that IS NOT CASH, an efficient portfolio was built, maximizing the standard sharpe, starting from 02-28-2020 and using daily logarithmic returns until 01-31-2018\n",
    "- As of the next month immediately on 02-28-2020, rebalance, with daily prices, using the following rule:\n",
    "- Decrease by 2.5% the position in securities of those assets whose price decreased by 5% or more\n",
    "- Increase by 2.5% the position in securities of those assets whose price increased by 5% or more\n",
    "- The same rebalancing fees for each position change with each asset as applicable were paid.\n",
    "- The buyback order will be the asset with the highest growth the day immediately before\n",
    "\n"
   ]
  },
  {
   "cell_type": "markdown",
   "metadata": {},
   "source": [
    "# Sharpe Ratio"
   ]
  },
  {
   "cell_type": "markdown",
   "metadata": {},
   "source": [
    "\n",
    "<font color= #6B6B6B>The Sharpe ratio was developed by Nobel laureate William F. Sharpe and is used to help investors understand the return of an investment compared to its risk. The ratio is the average return earned in excess of the risk-free rate per unit of volatility or total risk. Volatility is a measure of the price fluctuations of an asset or portfolio.\n",
    "\n",
    "<font color= #6B6B6B>Subtracting the risk-free rate from the mean return allows an investor to better isolate the profits associated with risk-taking activities. The risk-free rate of return is the return on an investment with zero risk, meaning it's the return investors could expect for taking no risk. The yield for a U.S. Treasury bond, for example, could be used as the risk-free rate.\n",
    "\n",
    "<font color= #6B6B6B>Generally, the greater the value of the Sharpe ratio, the more attractive the risk-adjusted return."
   ]
  },
  {
   "attachments": {
    "935221be-59d5-4cb0-a4c1-995bfe5c6c19.png": {
     "image/png": "[encoded data removed]"
    }
   },
   "cell_type": "markdown",
   "metadata": {},
   "source": [
    "<center><img src=\"attachment:935221be-59d5-4cb0-a4c1-995bfe5c6c19.png\" width=\"539\" height=\"237\" align=\"center\"/>"
   ]
  },
  {
   "cell_type": "code",
   "execution_count": null,
   "metadata": {},
   "outputs": [],
   "source": [
    "df_activa.head(4)"
   ]
  },
  {
   "cell_type": "code",
   "execution_count": null,
   "metadata": {},
   "outputs": [],
   "source": [
    "df_activa.tail(4)"
   ]
  },
  {
   "cell_type": "code",
   "execution_count": null,
   "metadata": {},
   "outputs": [],
   "source": [
    "df_activa[\"Capital\"].describe()"
   ]
  },
  {
   "cell_type": "code",
   "execution_count": null,
   "metadata": {},
   "outputs": [],
   "source": [
    "# basic plotly plot\n",
    "data = [go.Bar(x=df_activa.index, y=df_activa.Rendimiento)]\n",
    "# instruction to view it inside jupyter\n",
    "iplot(data)"
   ]
  },
  {
   "cell_type": "markdown",
   "metadata": {},
   "source": [
    "<hr style=\"border:0.02in solid gray\"> </hr>"
   ]
  },
  {
   "cell_type": "markdown",
   "metadata": {},
   "source": [
    "# <font color= #6B6B6B> 6. Historical Operation Registry </font>"
   ]
  },
  {
   "cell_type": "markdown",
   "metadata": {},
   "source": [
    "<hr style=\"border:0.02in solid gray\"> </hr>"
   ]
  },
  {
   "cell_type": "markdown",
   "metadata": {},
   "source": [
    "# <font color= #6B6B6B> 7. Performance Attribution Measures </font>"
   ]
  },
  {
   "cell_type": "markdown",
   "metadata": {},
   "source": [
    "<br>"
   ]
  },
  {
   "cell_type": "markdown",
   "metadata": {},
   "source": [
    "<hr style=\"border:0.02in solid gray\"> </hr>"
   ]
  },
  {
   "cell_type": "markdown",
   "metadata": {},
   "source": [
    "# <font color= #6B6B6B> <font size = 6> 8. References </font>"
   ]
  },
  {
   "cell_type": "markdown",
   "metadata": {},
   "source": [
    "<hr style=\"border:0.02in solid gray\"> </hr>"
   ]
  },
  {
   "cell_type": "markdown",
   "metadata": {},
   "source": [
    "-[1] Munnoz, 2020. Python project template. https://github.com/iffranciscome/python-project. (2021).\n",
    "\n",
    "-JAMES CHEN. (2021). Yield. 06-06-2021, de Investopedia Sitio web: https://www.investopedia.com/terms/y/yield.asp\n",
    "\n",
    "-NICK LIOUDIS. (2020). Passive vs. Active Portfolio Management: What's the Difference?. 06-06-2021, de Investopedia Sitio web: https://www.investopedia.com/ask/answers/040315/what-difference-between-passive-and-active-portfolio-management.asp\n",
    "\n",
    "-JASON FERNANDO. (2021). Sharpe Ratio. 06-06-2021, de Investopedia Sitio web: https://www.investopedia.com/terms/s/sharperatio.asp"
   ]
  },
  {
   "cell_type": "markdown",
   "metadata": {},
   "source": [
    "<hr style=\"border:0.02in solid gray\"> </hr>"
   ]
  },
  {
   "cell_type": "markdown",
   "metadata": {},
   "source": [
    "<br>"
   ]
  }
 ],
 "metadata": {
  "kernelspec": {
   "display_name": "Python 3",
   "language": "python",
   "name": "python3"
  },
  "language_info": {
   "codemirror_mode": {
    "name": "ipython",
    "version": 3
   },
   "file_extension": ".py",
   "mimetype": "text/x-python",
   "name": "python",
   "nbconvert_exporter": "python",
   "pygments_lexer": "ipython3",
   "version": "3.8.8"
  }
 },
 "nbformat": 4,
 "nbformat_minor": 4
}
