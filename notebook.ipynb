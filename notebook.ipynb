{
 "cells": [
  {
   "cell_type": "markdown",
   "metadata": {},
   "source": [
    "<center> <img src=\"http://oci02.img.iteso.mx/identidad_de_instancia_2018/ITESO/Logos%20ITESO/Logo-ITESO-Principal.jpg\" align=\"center\" width=\"960\" height=\"480\"/> </center>"
   ]
  },
  {
   "cell_type": "markdown",
   "metadata": {},
   "source": [
    "<center><font color=#555555><font size=6> MAF1731 - Microstructure and Trading Systems </font> <br> <br>\n",
    "    \n",
    "<center><font color=#555555><font size=5> B.Eng Financial Engineering </font> <br> <br> <br> <br>\n",
    "\n",
    "<center><font color=#555555><font size=6> I.F. ALEJANDRO MICHEL MARRÓN </font> <br> <br>\n",
    "   \n",
    "<center> <font color= #555555> <font size = 4> Jun 2021 </a> | <font color= #555555> <font size = 4> Repository: <a href='https://github.com/HKael/myst_amm_lab1'>Link</a></font>"
   ]
  },
  {
   "cell_type": "markdown",
   "metadata": {},
   "source": [
    "<hr style=\"border:0.02in solid gray\"> </hr>"
   ]
  },
  {
   "cell_type": "markdown",
   "metadata": {},
   "source": [
    "<center> <font color= #555555> <font size = 6> Lab 1 </font> <br> <br> <font color= #555555> <font size = 5> NAFTRAC Capital Investment  </font>"
   ]
  },
  {
   "cell_type": "markdown",
   "metadata": {},
   "source": [
    "<hr style=\"border:0.02in solid gray\"> </hr>"
   ]
  },
  {
   "cell_type": "markdown",
   "metadata": {},
   "source": [
    "<br>"
   ]
  },
  {
   "cell_type": "markdown",
   "metadata": {},
   "source": [
    "<font color= #555555> <font size = 6> Abstract </font>"
   ]
  },
  {
   "cell_type": "markdown",
   "metadata": {},
   "source": [
    "<font color= #6B6B6B> <font size = 4>  \n",
    "    \n",
    "#### Investors have two main investment strategies that can be used to generate a return on their investment accounts:<a href='https://www.investopedia.com/ask/answers/040315/what-difference-between-passive-and-active-portfolio-management.asp#:~:text=Active%20portfolio%20management%20focuses%20on,order%20to%20achieve%20similar%20results'> active portfolio management and passive portfolio management.</a> \n",
    "\n",
    "- Active portfolio management focuses on outperforming the market in comparison to a specific benchmark such as the Standard & Poor's 500 Index.\n",
    "- Passive portfolio management mimics the investment holdings of a particular index in order to achieve similar results.\n",
    "\n",
    "#### In this document, the most optimal way to invest between this two options is explored with a practical case. \n",
    "    \n"
   ]
  },
  {
   "cell_type": "markdown",
   "metadata": {},
   "source": [
    "<hr style=\"border:0.02in solid gray\"> </hr>"
   ]
  },
  {
   "cell_type": "markdown",
   "metadata": {},
   "source": [
    "<br>"
   ]
  },
  {
   "cell_type": "markdown",
   "metadata": {},
   "source": [
    "# <font color= #6B6B6B> <font size = 6> 1. Introduction </font>"
   ]
  },
  {
   "cell_type": "markdown",
   "metadata": {},
   "source": [
    "<hr style=\"border:0.02in solid gray\"> </hr>"
   ]
  },
  {
   "cell_type": "markdown",
   "metadata": {},
   "source": [
    "#### In order to make a comparison between a passive investment strategy and an active investment strategy,basic performance attribution measures were considered. Which are the following:\n",
    "\n",
    "- <a href='https://www.investopedia.com/terms/y/yield.asp'>Monthly yield</a>\n",
    "- <a href='https://www.investopedia.com/terms/c/cumulativereturn.asp'>Cumulative monthly return</a>\n",
    "- <a href='https://www.investopedia.com/terms/s/sharperatio.asp'>Sharpe ratio</a>\n",
    "    \n",
    "\n",
    "    "
   ]
  },
  {
   "cell_type": "markdown",
   "metadata": {},
   "source": [
    "<hr style=\"border:0.02in solid gray\"> </hr>"
   ]
  },
  {
   "cell_type": "markdown",
   "metadata": {},
   "source": [
    "<br>"
   ]
  },
  {
   "cell_type": "markdown",
   "metadata": {},
   "source": [
    "# <font color= #6B6B6B> 2. Install/Load Packages and Depedencies </font>"
   ]
  },
  {
   "cell_type": "markdown",
   "metadata": {},
   "source": [
    "<hr style=\"border:0.02in solid gray\"> </hr>"
   ]
  },
  {
   "cell_type": "markdown",
   "metadata": {},
   "source": [
    "<br>"
   ]
  },
  {
   "cell_type": "code",
   "execution_count": 35,
   "metadata": {},
   "outputs": [],
   "source": [
    "import numpy as np\n",
    "import pandas as pd\n",
    "import pandas_datareader as web\n",
    "import yfinance as yf\n",
    "import datetime \n",
    "import time\n",
    "import functions as fn\n",
    "import data \n",
    "import matplotlib.pyplot as plt\n",
    "import main\n",
    "pd.set_option('display.float_format', '{:.4f}'.format)\n",
    "from main import df_pasiva_a\n",
    "from main import df_pasiva_b\n",
    "from main import df_activa\n",
    "from main import dates\n",
    "from main import global_tickers\n",
    "from main import global_prices\n",
    "from main import precios\n",
    "from data import files\n",
    "from data import data_files\n",
    "from data import data"
   ]
  },
  {
   "cell_type": "markdown",
   "metadata": {},
   "source": [
    "<hr style=\"border:0.02in solid gray\"> </hr>"
   ]
  },
  {
   "cell_type": "markdown",
   "metadata": {},
   "source": [
    "## <font color= #6B6B6B> 2.1 Python Packages </font> <font color= #555555>"
   ]
  },
  {
   "cell_type": "markdown",
   "metadata": {},
   "source": [
    "<hr style=\"border:0.02in solid gray\"> </hr>"
   ]
  },
  {
   "cell_type": "markdown",
   "metadata": {},
   "source": [
    "In order to run this notebook, it is necessary to have installed and/or have the _requirements.txt_ file with the following: "
   ]
  },
  {
   "cell_type": "markdown",
   "metadata": {},
   "source": [
    "- pandas \n",
    "- numpy\n",
    "- jupyter\n",
    "- yfinance \n",
    "- datetime\n",
    "- time\n",
    "- pandas_datareader\n",
    "- dask"
   ]
  },
  {
   "cell_type": "markdown",
   "metadata": {},
   "source": [
    "## <font color= #6B6B6B> 2.2 Files Dependencies </font> <font color= #555555>"
   ]
  },
  {
   "cell_type": "markdown",
   "metadata": {},
   "source": [
    "The following are the file dependencies that are needed to run this notebook:"
   ]
  },
  {
   "cell_type": "markdown",
   "metadata": {},
   "source": [
    "- files/a/precios.csv : Precios históricos prepandemia\n",
    "- files/b/precios.csv : Precios históricos postpandemia\n"
   ]
  },
  {
   "cell_type": "markdown",
   "metadata": {},
   "source": [
    "<hr style=\"border:0.02in solid gray\"> </hr>"
   ]
  },
  {
   "cell_type": "markdown",
   "metadata": {},
   "source": [
    "<br>"
   ]
  },
  {
   "cell_type": "markdown",
   "metadata": {},
   "source": [
    "# <font color= #6B6B6B> 3. Data Description </font>"
   ]
  },
  {
   "cell_type": "markdown",
   "metadata": {},
   "source": [
    "<hr style=\"border:0.02in solid gray\"> </hr>"
   ]
  },
  {
   "cell_type": "code",
   "execution_count": 26,
   "metadata": {},
   "outputs": [
    {
     "name": "stdout",
     "output_type": "stream",
     "text": [
      "['NAFTRAC_20180131', 'NAFTRAC_20180228', 'NAFTRAC_20180328', 'NAFTRAC_20180430', 'NAFTRAC_20180531', 'NAFTRAC_20180629', 'NAFTRAC_20180731', 'NAFTRAC_20180831', 'NAFTRAC_20180928', 'NAFTRAC_20181031', 'NAFTRAC_20181130', 'NAFTRAC_20181231', 'NAFTRAC_20190131', 'NAFTRAC_20190228', 'NAFTRAC_20190329', 'NAFTRAC_20190430', 'NAFTRAC_20190531', 'NAFTRAC_20190628', 'NAFTRAC_20190731', 'NAFTRAC_20190830', 'NAFTRAC_20190930', 'NAFTRAC_20191031', 'NAFTRAC_20191129', 'NAFTRAC_20191231', 'NAFTRAC_20200131', 'NAFTRAC_20200228', 'NAFTRAC_20200331', 'NAFTRAC_20200430', 'NAFTRAC_20200529', 'NAFTRAC_20200630', 'NAFTRAC_20200731', 'NAFTRAC_20200831', 'NAFTRAC_20200930', 'NAFTRAC_20201030', 'NAFTRAC_20201130', 'NAFTRAC_20201231', 'NAFTRAC_20210129', 'NAFTRAC_20210226', 'NAFTRAC_20210331']\n"
     ]
    }
   ],
   "source": [
    "print(files)"
   ]
  },
  {
   "cell_type": "code",
   "execution_count": 42,
   "metadata": {},
   "outputs": [
    {
     "data": {
      "text/plain": [
       "39"
      ]
     },
     "execution_count": 42,
     "metadata": {},
     "output_type": "execute_result"
    }
   ],
   "source": [
    "len(data_files)"
   ]
  },
  {
   "cell_type": "code",
   "execution_count": 38,
   "metadata": {},
   "outputs": [
    {
     "name": "stdout",
     "output_type": "stream",
     "text": [
      "{'i_dates': ['2018-01-31', '2018-02-28', '2018-03-28', '2018-04-30', '2018-05-31', '2018-06-29', '2018-07-31', '2018-08-31', '2018-09-28', '2018-10-31', '2018-11-30', '2018-12-31', '2019-01-31', '2019-02-28', '2019-03-29', '2019-04-30', '2019-05-31', '2019-06-28', '2019-07-31', '2019-08-30', '2019-09-30', '2019-10-31', '2019-11-29', '2019-12-31', '2020-01-31', '2020-02-28', '2020-03-31', '2020-04-30', '2020-05-29', '2020-06-30', '2020-07-31', '2020-08-31', '2020-09-30', '2020-10-30', '2020-11-30', '2020-12-31', '2021-01-29', '2021-02-26', '2021-03-31'], 't_dates': ['31-01-2018', '28-02-2018', '28-03-2018', '30-04-2018', '31-05-2018', '29-06-2018', '31-07-2018', '31-08-2018', '28-09-2018', '31-10-2018', '30-11-2018', '31-12-2018', '31-01-2019', '28-02-2019', '29-03-2019', '30-04-2019', '31-05-2019', '28-06-2019', '31-07-2019', '30-08-2019', '30-09-2019', '31-10-2019', '29-11-2019', '31-12-2019', '31-01-2020', '28-02-2020', '31-03-2020', '30-04-2020', '29-05-2020', '30-06-2020', '31-07-2020', '31-08-2020', '30-09-2020', '30-10-2020', '30-11-2020', '31-12-2020', '29-01-2021', '26-02-2021', '31-03-2021']}\n"
     ]
    }
   ],
   "source": [
    "print(dates)"
   ]
  },
  {
   "cell_type": "code",
   "execution_count": 40,
   "metadata": {},
   "outputs": [
    {
     "name": "stdout",
     "output_type": "stream",
     "text": [
      "['AC.MX', 'ALFAA.MX', 'ALPEKA.MX', 'ALSEA.MX', 'AMXL.MX', 'ASURB.MX', 'BBAJIOO.MX', 'BIMBOA.MX', 'BOLSAA.MX', 'CEMEXCPO.MX', 'CUERVO.MX', 'ELEKTRA.MX', 'FEMSAUBD.MX', 'GAPB.MX', 'GCARSOA1.MX', 'GCC.MX', 'GENTERA.MX', 'GFINBURO.MX', 'GFNORTEO.MX', 'RA.MX', 'GMEXICOB.MX', 'GMXT.MX', 'GRUMAB.MX', 'IENOVA.MX', 'KIMBERA.MX', 'LABB.MX', 'LALAB.MX', 'LIVEPOLC-1.MX', 'MEGACPO.MX', 'ORBIA.MX', 'OMAB.MX', 'ORBIA.MX', 'PE&OLES.MX', 'PINFRA.MX', 'Q.MX', 'RA.MX', 'TLEVISACPO.MX', 'VESTA.MX', 'VOLARA.MX', 'WALMEX.MX', '\\xa0.MX']\n"
     ]
    }
   ],
   "source": [
    "print(global_tickers)"
   ]
  },
  {
   "cell_type": "code",
   "execution_count": 23,
   "metadata": {},
   "outputs": [
    {
     "data": {
      "text/html": [
       "<div>\n",
       "<style scoped>\n",
       "    .dataframe tbody tr th:only-of-type {\n",
       "        vertical-align: middle;\n",
       "    }\n",
       "\n",
       "    .dataframe tbody tr th {\n",
       "        vertical-align: top;\n",
       "    }\n",
       "\n",
       "    .dataframe thead th {\n",
       "        text-align: right;\n",
       "    }\n",
       "</style>\n",
       "<table border=\"1\" class=\"dataframe\">\n",
       "  <thead>\n",
       "    <tr style=\"text-align: right;\">\n",
       "      <th></th>\n",
       "      <th>Ticker</th>\n",
       "      <th>Nombre</th>\n",
       "      <th>Clase de activo</th>\n",
       "      <th>Peso (%)</th>\n",
       "      <th>Precio</th>\n",
       "      <th>Acciones</th>\n",
       "      <th>Valor de mercado</th>\n",
       "      <th>Valor nominal</th>\n",
       "      <th>Sector</th>\n",
       "      <th>Unnamed: 9</th>\n",
       "      <th>ISIN</th>\n",
       "      <th>Bolsa de valores</th>\n",
       "      <th>Ubicación</th>\n",
       "      <th>Moneda</th>\n",
       "      <th>Mercado de divisas</th>\n",
       "      <th>Tipo de Cambio</th>\n",
       "    </tr>\n",
       "  </thead>\n",
       "  <tbody>\n",
       "    <tr>\n",
       "      <th>0</th>\n",
       "      <td>GMEXICOB</td>\n",
       "      <td>GRUPO MEXICO B</td>\n",
       "      <td>Equity</td>\n",
       "      <td>0.1183</td>\n",
       "      <td>107.46</td>\n",
       "      <td>58,668,648.00</td>\n",
       "      <td>6,304,532,914.08</td>\n",
       "      <td>6,304,532,914.08</td>\n",
       "      <td>Materiales</td>\n",
       "      <td>2643674</td>\n",
       "      <td>MXP370841019</td>\n",
       "      <td>Bolsa Mexicana De Valores</td>\n",
       "      <td>México</td>\n",
       "      <td>MXN</td>\n",
       "      <td>MXN</td>\n",
       "      <td>1.0000</td>\n",
       "    </tr>\n",
       "    <tr>\n",
       "      <th>1</th>\n",
       "      <td>AMXL</td>\n",
       "      <td>AMERICA MOVIL L</td>\n",
       "      <td>Equity</td>\n",
       "      <td>0.1142</td>\n",
       "      <td>13.96</td>\n",
       "      <td>435,876,708.00</td>\n",
       "      <td>6,084,838,843.68</td>\n",
       "      <td>6,084,838,843.68</td>\n",
       "      <td>Comunicación</td>\n",
       "      <td>2667470</td>\n",
       "      <td>MXP001691213</td>\n",
       "      <td>Bolsa Mexicana De Valores</td>\n",
       "      <td>México</td>\n",
       "      <td>MXN</td>\n",
       "      <td>MXN</td>\n",
       "      <td>1.0000</td>\n",
       "    </tr>\n",
       "    <tr>\n",
       "      <th>2</th>\n",
       "      <td>WALMEX</td>\n",
       "      <td>WALMART DE MEXICO V</td>\n",
       "      <td>Equity</td>\n",
       "      <td>0.1126</td>\n",
       "      <td>64.47</td>\n",
       "      <td>93,076,189.00</td>\n",
       "      <td>6,000,621,904.83</td>\n",
       "      <td>6,000,621,904.83</td>\n",
       "      <td>Productos básicos de consumo</td>\n",
       "      <td>BW1YVH8</td>\n",
       "      <td>MX01WA000038</td>\n",
       "      <td>Bolsa Mexicana De Valores</td>\n",
       "      <td>México</td>\n",
       "      <td>MXN</td>\n",
       "      <td>MXN</td>\n",
       "      <td>1.0000</td>\n",
       "    </tr>\n",
       "    <tr>\n",
       "      <th>3</th>\n",
       "      <td>FEMSAUBD</td>\n",
       "      <td>FOMENTO ECONOMICO MEXICANO</td>\n",
       "      <td>Equity</td>\n",
       "      <td>0.0988</td>\n",
       "      <td>154.09</td>\n",
       "      <td>34,162,926.00</td>\n",
       "      <td>5,264,165,267.34</td>\n",
       "      <td>5,264,165,267.34</td>\n",
       "      <td>Productos básicos de consumo</td>\n",
       "      <td>2242059</td>\n",
       "      <td>MXP320321310</td>\n",
       "      <td>Bolsa Mexicana De Valores</td>\n",
       "      <td>México</td>\n",
       "      <td>MXN</td>\n",
       "      <td>MXN</td>\n",
       "      <td>1.0000</td>\n",
       "    </tr>\n",
       "    <tr>\n",
       "      <th>4</th>\n",
       "      <td>GFNORTEO</td>\n",
       "      <td>GPO FINANCE BANORTE</td>\n",
       "      <td>Equity</td>\n",
       "      <td>0.0973</td>\n",
       "      <td>115.13</td>\n",
       "      <td>45,050,217.00</td>\n",
       "      <td>5,186,631,483.21</td>\n",
       "      <td>5,186,631,483.21</td>\n",
       "      <td>Financieros</td>\n",
       "      <td>2421041</td>\n",
       "      <td>MXP370711014</td>\n",
       "      <td>Bolsa Mexicana De Valores</td>\n",
       "      <td>México</td>\n",
       "      <td>MXN</td>\n",
       "      <td>MXN</td>\n",
       "      <td>1.0000</td>\n",
       "    </tr>\n",
       "  </tbody>\n",
       "</table>\n",
       "</div>"
      ],
      "text/plain": [
       "     Ticker                      Nombre Clase de activo  Peso (%)  Precio  \\\n",
       "0  GMEXICOB              GRUPO MEXICO B          Equity    0.1183  107.46   \n",
       "1      AMXL             AMERICA MOVIL L          Equity    0.1142   13.96   \n",
       "2    WALMEX         WALMART DE MEXICO V          Equity    0.1126   64.47   \n",
       "3  FEMSAUBD  FOMENTO ECONOMICO MEXICANO          Equity    0.0988  154.09   \n",
       "4  GFNORTEO         GPO FINANCE BANORTE          Equity    0.0973  115.13   \n",
       "\n",
       "         Acciones  Valor de mercado     Valor nominal  \\\n",
       "0   58,668,648.00  6,304,532,914.08  6,304,532,914.08   \n",
       "1  435,876,708.00  6,084,838,843.68  6,084,838,843.68   \n",
       "2   93,076,189.00  6,000,621,904.83  6,000,621,904.83   \n",
       "3   34,162,926.00  5,264,165,267.34  5,264,165,267.34   \n",
       "4   45,050,217.00  5,186,631,483.21  5,186,631,483.21   \n",
       "\n",
       "                         Sector Unnamed: 9          ISIN  \\\n",
       "0                    Materiales    2643674  MXP370841019   \n",
       "1                  Comunicación    2667470  MXP001691213   \n",
       "2  Productos básicos de consumo    BW1YVH8  MX01WA000038   \n",
       "3  Productos básicos de consumo    2242059  MXP320321310   \n",
       "4                   Financieros    2421041  MXP370711014   \n",
       "\n",
       "            Bolsa de valores Ubicación Moneda Mercado de divisas  \\\n",
       "0  Bolsa Mexicana De Valores    México    MXN                MXN   \n",
       "1  Bolsa Mexicana De Valores    México    MXN                MXN   \n",
       "2  Bolsa Mexicana De Valores    México    MXN                MXN   \n",
       "3  Bolsa Mexicana De Valores    México    MXN                MXN   \n",
       "4  Bolsa Mexicana De Valores    México    MXN                MXN   \n",
       "\n",
       "   Tipo de Cambio  \n",
       "0          1.0000  \n",
       "1          1.0000  \n",
       "2          1.0000  \n",
       "3          1.0000  \n",
       "4          1.0000  "
      ]
     },
     "execution_count": 23,
     "metadata": {},
     "output_type": "execute_result"
    }
   ],
   "source": [
    "data.head()"
   ]
  },
  {
   "cell_type": "markdown",
   "metadata": {},
   "source": [
    "<hr style=\"border:0.02in solid gray\"> </hr>"
   ]
  },
  {
   "cell_type": "markdown",
   "metadata": {},
   "source": [
    "# <font color= #6B6B6B> 4. Passive investing </font>"
   ]
  },
  {
   "cell_type": "markdown",
   "metadata": {},
   "source": [
    "<hr style=\"border:0.02in solid gray\"> </hr>"
   ]
  },
  {
   "cell_type": "code",
   "execution_count": 43,
   "metadata": {},
   "outputs": [
    {
     "data": {
      "text/html": [
       "<div>\n",
       "<style scoped>\n",
       "    .dataframe tbody tr th:only-of-type {\n",
       "        vertical-align: middle;\n",
       "    }\n",
       "\n",
       "    .dataframe tbody tr th {\n",
       "        vertical-align: top;\n",
       "    }\n",
       "\n",
       "    .dataframe thead th {\n",
       "        text-align: right;\n",
       "    }\n",
       "</style>\n",
       "<table border=\"1\" class=\"dataframe\">\n",
       "  <thead>\n",
       "    <tr style=\"text-align: right;\">\n",
       "      <th></th>\n",
       "      <th>Capital</th>\n",
       "      <th>Rendimiento</th>\n",
       "      <th>Rendimiendo Acumulado</th>\n",
       "    </tr>\n",
       "    <tr>\n",
       "      <th>Timestamp</th>\n",
       "      <th></th>\n",
       "      <th></th>\n",
       "      <th></th>\n",
       "    </tr>\n",
       "  </thead>\n",
       "  <tbody>\n",
       "    <tr>\n",
       "      <th>31-01-2018</th>\n",
       "      <td>953906.0000</td>\n",
       "      <td>0.0000</td>\n",
       "      <td>0.0000</td>\n",
       "    </tr>\n",
       "    <tr>\n",
       "      <th>28-02-2018</th>\n",
       "      <td>901840.8056</td>\n",
       "      <td>-0.0521</td>\n",
       "      <td>-0.0521</td>\n",
       "    </tr>\n",
       "    <tr>\n",
       "      <th>28-03-2018</th>\n",
       "      <td>929512.1428</td>\n",
       "      <td>-0.0244</td>\n",
       "      <td>-0.0752</td>\n",
       "    </tr>\n",
       "    <tr>\n",
       "      <th>30-04-2018</th>\n",
       "      <td>1000485.8883</td>\n",
       "      <td>0.0466</td>\n",
       "      <td>-0.0321</td>\n",
       "    </tr>\n",
       "    <tr>\n",
       "      <th>31-05-2018</th>\n",
       "      <td>882874.1778</td>\n",
       "      <td>-0.0710</td>\n",
       "      <td>-0.1009</td>\n",
       "    </tr>\n",
       "    <tr>\n",
       "      <th>29-06-2018</th>\n",
       "      <td>1030054.3820</td>\n",
       "      <td>0.0761</td>\n",
       "      <td>-0.0324</td>\n",
       "    </tr>\n",
       "    <tr>\n",
       "      <th>31-07-2018</th>\n",
       "      <td>991956.7294</td>\n",
       "      <td>0.0381</td>\n",
       "      <td>0.0044</td>\n",
       "    </tr>\n",
       "    <tr>\n",
       "      <th>31-08-2018</th>\n",
       "      <td>956392.7544</td>\n",
       "      <td>0.0025</td>\n",
       "      <td>0.0069</td>\n",
       "    </tr>\n",
       "    <tr>\n",
       "      <th>28-09-2018</th>\n",
       "      <td>949527.2144</td>\n",
       "      <td>-0.0044</td>\n",
       "      <td>0.0025</td>\n",
       "    </tr>\n",
       "    <tr>\n",
       "      <th>31-10-2018</th>\n",
       "      <td>848004.9500</td>\n",
       "      <td>-0.1059</td>\n",
       "      <td>-0.1037</td>\n",
       "    </tr>\n",
       "    <tr>\n",
       "      <th>30-11-2018</th>\n",
       "      <td>912930.9333</td>\n",
       "      <td>-0.0410</td>\n",
       "      <td>-0.1404</td>\n",
       "    </tr>\n",
       "    <tr>\n",
       "      <th>31-12-2018</th>\n",
       "      <td>947753.9813</td>\n",
       "      <td>-0.0062</td>\n",
       "      <td>-0.1457</td>\n",
       "    </tr>\n",
       "    <tr>\n",
       "      <th>31-01-2019</th>\n",
       "      <td>1013969.1150</td>\n",
       "      <td>0.0601</td>\n",
       "      <td>-0.0944</td>\n",
       "    </tr>\n",
       "    <tr>\n",
       "      <th>28-02-2019</th>\n",
       "      <td>935089.0586</td>\n",
       "      <td>-0.0188</td>\n",
       "      <td>-0.1114</td>\n",
       "    </tr>\n",
       "    <tr>\n",
       "      <th>29-03-2019</th>\n",
       "      <td>968206.9571</td>\n",
       "      <td>0.0143</td>\n",
       "      <td>-0.0987</td>\n",
       "    </tr>\n",
       "    <tr>\n",
       "      <th>30-04-2019</th>\n",
       "      <td>975018.0796</td>\n",
       "      <td>0.0211</td>\n",
       "      <td>-0.0797</td>\n",
       "    </tr>\n",
       "    <tr>\n",
       "      <th>31-05-2019</th>\n",
       "      <td>918225.9655</td>\n",
       "      <td>-0.0357</td>\n",
       "      <td>-0.1125</td>\n",
       "    </tr>\n",
       "    <tr>\n",
       "      <th>28-06-2019</th>\n",
       "      <td>964690.1592</td>\n",
       "      <td>0.0108</td>\n",
       "      <td>-0.1029</td>\n",
       "    </tr>\n",
       "    <tr>\n",
       "      <th>31-07-2019</th>\n",
       "      <td>913945.7371</td>\n",
       "      <td>-0.0400</td>\n",
       "      <td>-0.1388</td>\n",
       "    </tr>\n",
       "    <tr>\n",
       "      <th>30-08-2019</th>\n",
       "      <td>998300.4065</td>\n",
       "      <td>0.0444</td>\n",
       "      <td>-0.1005</td>\n",
       "    </tr>\n",
       "    <tr>\n",
       "      <th>30-09-2019</th>\n",
       "      <td>967782.7197</td>\n",
       "      <td>0.0139</td>\n",
       "      <td>-0.0881</td>\n",
       "    </tr>\n",
       "    <tr>\n",
       "      <th>31-10-2019</th>\n",
       "      <td>973126.7411</td>\n",
       "      <td>0.0192</td>\n",
       "      <td>-0.0705</td>\n",
       "    </tr>\n",
       "    <tr>\n",
       "      <th>29-11-2019</th>\n",
       "      <td>949834.9729</td>\n",
       "      <td>-0.0041</td>\n",
       "      <td>-0.0743</td>\n",
       "    </tr>\n",
       "    <tr>\n",
       "      <th>31-12-2019</th>\n",
       "      <td>972541.7259</td>\n",
       "      <td>0.0186</td>\n",
       "      <td>-0.0571</td>\n",
       "    </tr>\n",
       "    <tr>\n",
       "      <th>31-01-2020</th>\n",
       "      <td>963895.1404</td>\n",
       "      <td>0.0100</td>\n",
       "      <td>-0.0476</td>\n",
       "    </tr>\n",
       "  </tbody>\n",
       "</table>\n",
       "</div>"
      ],
      "text/plain": [
       "                Capital  Rendimiento  Rendimiendo Acumulado\n",
       "Timestamp                                                  \n",
       "31-01-2018  953906.0000       0.0000                 0.0000\n",
       "28-02-2018  901840.8056      -0.0521                -0.0521\n",
       "28-03-2018  929512.1428      -0.0244                -0.0752\n",
       "30-04-2018 1000485.8883       0.0466                -0.0321\n",
       "31-05-2018  882874.1778      -0.0710                -0.1009\n",
       "29-06-2018 1030054.3820       0.0761                -0.0324\n",
       "31-07-2018  991956.7294       0.0381                 0.0044\n",
       "31-08-2018  956392.7544       0.0025                 0.0069\n",
       "28-09-2018  949527.2144      -0.0044                 0.0025\n",
       "31-10-2018  848004.9500      -0.1059                -0.1037\n",
       "30-11-2018  912930.9333      -0.0410                -0.1404\n",
       "31-12-2018  947753.9813      -0.0062                -0.1457\n",
       "31-01-2019 1013969.1150       0.0601                -0.0944\n",
       "28-02-2019  935089.0586      -0.0188                -0.1114\n",
       "29-03-2019  968206.9571       0.0143                -0.0987\n",
       "30-04-2019  975018.0796       0.0211                -0.0797\n",
       "31-05-2019  918225.9655      -0.0357                -0.1125\n",
       "28-06-2019  964690.1592       0.0108                -0.1029\n",
       "31-07-2019  913945.7371      -0.0400                -0.1388\n",
       "30-08-2019  998300.4065       0.0444                -0.1005\n",
       "30-09-2019  967782.7197       0.0139                -0.0881\n",
       "31-10-2019  973126.7411       0.0192                -0.0705\n",
       "29-11-2019  949834.9729      -0.0041                -0.0743\n",
       "31-12-2019  972541.7259       0.0186                -0.0571\n",
       "31-01-2020  963895.1404       0.0100                -0.0476"
      ]
     },
     "execution_count": 43,
     "metadata": {},
     "output_type": "execute_result"
    }
   ],
   "source": [
    "# PASIVA 1\n",
    "df_pasiva_a"
   ]
  },
  {
   "cell_type": "code",
   "execution_count": 45,
   "metadata": {},
   "outputs": [
    {
     "data": {
      "text/html": [
       "<div>\n",
       "<style scoped>\n",
       "    .dataframe tbody tr th:only-of-type {\n",
       "        vertical-align: middle;\n",
       "    }\n",
       "\n",
       "    .dataframe tbody tr th {\n",
       "        vertical-align: top;\n",
       "    }\n",
       "\n",
       "    .dataframe thead th {\n",
       "        text-align: right;\n",
       "    }\n",
       "</style>\n",
       "<table border=\"1\" class=\"dataframe\">\n",
       "  <thead>\n",
       "    <tr style=\"text-align: right;\">\n",
       "      <th></th>\n",
       "      <th>Capital</th>\n",
       "      <th>Rendimiento</th>\n",
       "      <th>Rendimiendo Acumulado</th>\n",
       "    </tr>\n",
       "  </thead>\n",
       "  <tbody>\n",
       "    <tr>\n",
       "      <th>count</th>\n",
       "      <td>25.0000</td>\n",
       "      <td>25.0000</td>\n",
       "      <td>25.0000</td>\n",
       "    </tr>\n",
       "    <tr>\n",
       "      <th>mean</th>\n",
       "      <td>952794.6695</td>\n",
       "      <td>-0.0011</td>\n",
       "      <td>-0.0738</td>\n",
       "    </tr>\n",
       "    <tr>\n",
       "      <th>std</th>\n",
       "      <td>41477.0969</td>\n",
       "      <td>0.0415</td>\n",
       "      <td>0.0456</td>\n",
       "    </tr>\n",
       "    <tr>\n",
       "      <th>min</th>\n",
       "      <td>848004.9500</td>\n",
       "      <td>-0.1059</td>\n",
       "      <td>-0.1457</td>\n",
       "    </tr>\n",
       "    <tr>\n",
       "      <th>25%</th>\n",
       "      <td>929512.1428</td>\n",
       "      <td>-0.0244</td>\n",
       "      <td>-0.1029</td>\n",
       "    </tr>\n",
       "    <tr>\n",
       "      <th>50%</th>\n",
       "      <td>956392.7544</td>\n",
       "      <td>0.0025</td>\n",
       "      <td>-0.0797</td>\n",
       "    </tr>\n",
       "    <tr>\n",
       "      <th>75%</th>\n",
       "      <td>973126.7411</td>\n",
       "      <td>0.0192</td>\n",
       "      <td>-0.0476</td>\n",
       "    </tr>\n",
       "    <tr>\n",
       "      <th>max</th>\n",
       "      <td>1030054.3820</td>\n",
       "      <td>0.0761</td>\n",
       "      <td>0.0069</td>\n",
       "    </tr>\n",
       "  </tbody>\n",
       "</table>\n",
       "</div>"
      ],
      "text/plain": [
       "           Capital  Rendimiento  Rendimiendo Acumulado\n",
       "count      25.0000      25.0000                25.0000\n",
       "mean   952794.6695      -0.0011                -0.0738\n",
       "std     41477.0969       0.0415                 0.0456\n",
       "min    848004.9500      -0.1059                -0.1457\n",
       "25%    929512.1428      -0.0244                -0.1029\n",
       "50%    956392.7544       0.0025                -0.0797\n",
       "75%    973126.7411       0.0192                -0.0476\n",
       "max   1030054.3820       0.0761                 0.0069"
      ]
     },
     "execution_count": 45,
     "metadata": {},
     "output_type": "execute_result"
    }
   ],
   "source": [
    "df_pasiva_a.describe()"
   ]
  },
  {
   "cell_type": "code",
   "execution_count": 3,
   "metadata": {},
   "outputs": [
    {
     "data": {
      "text/html": [
       "<div>\n",
       "<style scoped>\n",
       "    .dataframe tbody tr th:only-of-type {\n",
       "        vertical-align: middle;\n",
       "    }\n",
       "\n",
       "    .dataframe tbody tr th {\n",
       "        vertical-align: top;\n",
       "    }\n",
       "\n",
       "    .dataframe thead th {\n",
       "        text-align: right;\n",
       "    }\n",
       "</style>\n",
       "<table border=\"1\" class=\"dataframe\">\n",
       "  <thead>\n",
       "    <tr style=\"text-align: right;\">\n",
       "      <th></th>\n",
       "      <th>Capital</th>\n",
       "      <th>Rendimiento</th>\n",
       "      <th>Rendimiendo Acumulado</th>\n",
       "    </tr>\n",
       "    <tr>\n",
       "      <th>Timestamp</th>\n",
       "      <th></th>\n",
       "      <th></th>\n",
       "      <th></th>\n",
       "    </tr>\n",
       "  </thead>\n",
       "  <tbody>\n",
       "    <tr>\n",
       "      <th>28-02-2020</th>\n",
       "      <td>9.539060e+05</td>\n",
       "      <td>0.000000</td>\n",
       "      <td>0.000000</td>\n",
       "    </tr>\n",
       "    <tr>\n",
       "      <th>31-03-2020</th>\n",
       "      <td>8.120022e+05</td>\n",
       "      <td>-0.141904</td>\n",
       "      <td>-0.141904</td>\n",
       "    </tr>\n",
       "    <tr>\n",
       "      <th>30-04-2020</th>\n",
       "      <td>1.022605e+06</td>\n",
       "      <td>0.068699</td>\n",
       "      <td>-0.082953</td>\n",
       "    </tr>\n",
       "    <tr>\n",
       "      <th>29-05-2020</th>\n",
       "      <td>9.498217e+05</td>\n",
       "      <td>-0.004084</td>\n",
       "      <td>-0.086699</td>\n",
       "    </tr>\n",
       "    <tr>\n",
       "      <th>30-06-2020</th>\n",
       "      <td>1.012228e+06</td>\n",
       "      <td>0.058322</td>\n",
       "      <td>-0.033433</td>\n",
       "    </tr>\n",
       "    <tr>\n",
       "      <th>31-07-2020</th>\n",
       "      <td>9.524649e+05</td>\n",
       "      <td>-0.001441</td>\n",
       "      <td>-0.034826</td>\n",
       "    </tr>\n",
       "    <tr>\n",
       "      <th>31-08-2020</th>\n",
       "      <td>9.607853e+05</td>\n",
       "      <td>0.006879</td>\n",
       "      <td>-0.028186</td>\n",
       "    </tr>\n",
       "    <tr>\n",
       "      <th>30-09-2020</th>\n",
       "      <td>9.756084e+05</td>\n",
       "      <td>0.021702</td>\n",
       "      <td>-0.007095</td>\n",
       "    </tr>\n",
       "    <tr>\n",
       "      <th>30-10-2020</th>\n",
       "      <td>9.537261e+05</td>\n",
       "      <td>-0.000180</td>\n",
       "      <td>-0.007274</td>\n",
       "    </tr>\n",
       "    <tr>\n",
       "      <th>30-11-2020</th>\n",
       "      <td>1.095235e+06</td>\n",
       "      <td>0.141329</td>\n",
       "      <td>0.133027</td>\n",
       "    </tr>\n",
       "    <tr>\n",
       "      <th>31-12-2020</th>\n",
       "      <td>1.011293e+06</td>\n",
       "      <td>0.057387</td>\n",
       "      <td>0.198048</td>\n",
       "    </tr>\n",
       "    <tr>\n",
       "      <th>29-01-2021</th>\n",
       "      <td>9.407716e+05</td>\n",
       "      <td>-0.013134</td>\n",
       "      <td>0.182313</td>\n",
       "    </tr>\n",
       "    <tr>\n",
       "      <th>26-02-2021</th>\n",
       "      <td>9.951183e+05</td>\n",
       "      <td>0.041212</td>\n",
       "      <td>0.231039</td>\n",
       "    </tr>\n",
       "    <tr>\n",
       "      <th>31-03-2021</th>\n",
       "      <td>1.015050e+06</td>\n",
       "      <td>0.061144</td>\n",
       "      <td>0.306309</td>\n",
       "    </tr>\n",
       "  </tbody>\n",
       "</table>\n",
       "</div>"
      ],
      "text/plain": [
       "                 Capital  Rendimiento  Rendimiendo Acumulado\n",
       "Timestamp                                                   \n",
       "28-02-2020  9.539060e+05     0.000000               0.000000\n",
       "31-03-2020  8.120022e+05    -0.141904              -0.141904\n",
       "30-04-2020  1.022605e+06     0.068699              -0.082953\n",
       "29-05-2020  9.498217e+05    -0.004084              -0.086699\n",
       "30-06-2020  1.012228e+06     0.058322              -0.033433\n",
       "31-07-2020  9.524649e+05    -0.001441              -0.034826\n",
       "31-08-2020  9.607853e+05     0.006879              -0.028186\n",
       "30-09-2020  9.756084e+05     0.021702              -0.007095\n",
       "30-10-2020  9.537261e+05    -0.000180              -0.007274\n",
       "30-11-2020  1.095235e+06     0.141329               0.133027\n",
       "31-12-2020  1.011293e+06     0.057387               0.198048\n",
       "29-01-2021  9.407716e+05    -0.013134               0.182313\n",
       "26-02-2021  9.951183e+05     0.041212               0.231039\n",
       "31-03-2021  1.015050e+06     0.061144               0.306309"
      ]
     },
     "execution_count": 3,
     "metadata": {},
     "output_type": "execute_result"
    }
   ],
   "source": [
    "# PASIVA 2\n",
    "df_pasiva_b"
   ]
  },
  {
   "cell_type": "code",
   "execution_count": 44,
   "metadata": {},
   "outputs": [
    {
     "data": {
      "text/html": [
       "<div>\n",
       "<style scoped>\n",
       "    .dataframe tbody tr th:only-of-type {\n",
       "        vertical-align: middle;\n",
       "    }\n",
       "\n",
       "    .dataframe tbody tr th {\n",
       "        vertical-align: top;\n",
       "    }\n",
       "\n",
       "    .dataframe thead th {\n",
       "        text-align: right;\n",
       "    }\n",
       "</style>\n",
       "<table border=\"1\" class=\"dataframe\">\n",
       "  <thead>\n",
       "    <tr style=\"text-align: right;\">\n",
       "      <th></th>\n",
       "      <th>Capital</th>\n",
       "      <th>Rendimiento</th>\n",
       "      <th>Rendimiendo Acumulado</th>\n",
       "    </tr>\n",
       "  </thead>\n",
       "  <tbody>\n",
       "    <tr>\n",
       "      <th>count</th>\n",
       "      <td>14.0000</td>\n",
       "      <td>14.0000</td>\n",
       "      <td>14.0000</td>\n",
       "    </tr>\n",
       "    <tr>\n",
       "      <th>mean</th>\n",
       "      <td>975044.0182</td>\n",
       "      <td>0.0211</td>\n",
       "      <td>0.0449</td>\n",
       "    </tr>\n",
       "    <tr>\n",
       "      <th>std</th>\n",
       "      <td>62889.5242</td>\n",
       "      <td>0.0629</td>\n",
       "      <td>0.1378</td>\n",
       "    </tr>\n",
       "    <tr>\n",
       "      <th>min</th>\n",
       "      <td>812002.2249</td>\n",
       "      <td>-0.1419</td>\n",
       "      <td>-0.1419</td>\n",
       "    </tr>\n",
       "    <tr>\n",
       "      <th>25%</th>\n",
       "      <td>952780.1944</td>\n",
       "      <td>-0.0011</td>\n",
       "      <td>-0.0345</td>\n",
       "    </tr>\n",
       "    <tr>\n",
       "      <th>50%</th>\n",
       "      <td>968196.8706</td>\n",
       "      <td>0.0143</td>\n",
       "      <td>-0.0072</td>\n",
       "    </tr>\n",
       "    <tr>\n",
       "      <th>75%</th>\n",
       "      <td>1011994.5756</td>\n",
       "      <td>0.0581</td>\n",
       "      <td>0.1700</td>\n",
       "    </tr>\n",
       "    <tr>\n",
       "      <th>max</th>\n",
       "      <td>1095235.1620</td>\n",
       "      <td>0.1413</td>\n",
       "      <td>0.3063</td>\n",
       "    </tr>\n",
       "  </tbody>\n",
       "</table>\n",
       "</div>"
      ],
      "text/plain": [
       "           Capital  Rendimiento  Rendimiendo Acumulado\n",
       "count      14.0000      14.0000                14.0000\n",
       "mean   975044.0182       0.0211                 0.0449\n",
       "std     62889.5242       0.0629                 0.1378\n",
       "min    812002.2249      -0.1419                -0.1419\n",
       "25%    952780.1944      -0.0011                -0.0345\n",
       "50%    968196.8706       0.0143                -0.0072\n",
       "75%   1011994.5756       0.0581                 0.1700\n",
       "max   1095235.1620       0.1413                 0.3063"
      ]
     },
     "execution_count": 44,
     "metadata": {},
     "output_type": "execute_result"
    }
   ],
   "source": [
    "df_pasiva_b.describe()"
   ]
  },
  {
   "cell_type": "markdown",
   "metadata": {},
   "source": [
    "<hr style=\"border:0.02in solid gray\"> </hr>"
   ]
  },
  {
   "cell_type": "markdown",
   "metadata": {},
   "source": [
    "# <font color= #6B6B6B> 5. Active investment </font>"
   ]
  },
  {
   "cell_type": "markdown",
   "metadata": {},
   "source": [
    "<hr style=\"border:0.02in solid gray\"> </hr>"
   ]
  },
  {
   "cell_type": "code",
   "execution_count": 8,
   "metadata": {},
   "outputs": [
    {
     "data": {
      "text/html": [
       "<div>\n",
       "<style scoped>\n",
       "    .dataframe tbody tr th:only-of-type {\n",
       "        vertical-align: middle;\n",
       "    }\n",
       "\n",
       "    .dataframe tbody tr th {\n",
       "        vertical-align: top;\n",
       "    }\n",
       "\n",
       "    .dataframe thead th {\n",
       "        text-align: right;\n",
       "    }\n",
       "</style>\n",
       "<table border=\"1\" class=\"dataframe\">\n",
       "  <thead>\n",
       "    <tr style=\"text-align: right;\">\n",
       "      <th></th>\n",
       "      <th>Capital</th>\n",
       "      <th>Rendimiento</th>\n",
       "      <th>Rendimiendo Acumulado</th>\n",
       "    </tr>\n",
       "    <tr>\n",
       "      <th>Timestamp</th>\n",
       "      <th></th>\n",
       "      <th></th>\n",
       "      <th></th>\n",
       "    </tr>\n",
       "  </thead>\n",
       "  <tbody>\n",
       "    <tr>\n",
       "      <th>30-01-2018</th>\n",
       "      <td>953906.000000</td>\n",
       "      <td>0.000000</td>\n",
       "      <td>0.000000</td>\n",
       "    </tr>\n",
       "    <tr>\n",
       "      <th>31-01-2018</th>\n",
       "      <td>957044.538081</td>\n",
       "      <td>0.003139</td>\n",
       "      <td>0.003139</td>\n",
       "    </tr>\n",
       "    <tr>\n",
       "      <th>01-02-2018</th>\n",
       "      <td>956310.824408</td>\n",
       "      <td>0.002405</td>\n",
       "      <td>0.005551</td>\n",
       "    </tr>\n",
       "    <tr>\n",
       "      <th>02-02-2018</th>\n",
       "      <td>949501.660998</td>\n",
       "      <td>-0.004404</td>\n",
       "      <td>0.001122</td>\n",
       "    </tr>\n",
       "  </tbody>\n",
       "</table>\n",
       "</div>"
      ],
      "text/plain": [
       "                  Capital  Rendimiento  Rendimiendo Acumulado\n",
       "Timestamp                                                    \n",
       "30-01-2018  953906.000000     0.000000               0.000000\n",
       "31-01-2018  957044.538081     0.003139               0.003139\n",
       "01-02-2018  956310.824408     0.002405               0.005551\n",
       "02-02-2018  949501.660998    -0.004404               0.001122"
      ]
     },
     "execution_count": 8,
     "metadata": {},
     "output_type": "execute_result"
    }
   ],
   "source": [
    "df_activa.head(4)"
   ]
  },
  {
   "cell_type": "code",
   "execution_count": 9,
   "metadata": {},
   "outputs": [
    {
     "data": {
      "text/html": [
       "<div>\n",
       "<style scoped>\n",
       "    .dataframe tbody tr th:only-of-type {\n",
       "        vertical-align: middle;\n",
       "    }\n",
       "\n",
       "    .dataframe tbody tr th {\n",
       "        vertical-align: top;\n",
       "    }\n",
       "\n",
       "    .dataframe thead th {\n",
       "        text-align: right;\n",
       "    }\n",
       "</style>\n",
       "<table border=\"1\" class=\"dataframe\">\n",
       "  <thead>\n",
       "    <tr style=\"text-align: right;\">\n",
       "      <th></th>\n",
       "      <th>Capital</th>\n",
       "      <th>Rendimiento</th>\n",
       "      <th>Rendimiendo Acumulado</th>\n",
       "    </tr>\n",
       "    <tr>\n",
       "      <th>Timestamp</th>\n",
       "      <th></th>\n",
       "      <th></th>\n",
       "      <th></th>\n",
       "    </tr>\n",
       "  </thead>\n",
       "  <tbody>\n",
       "    <tr>\n",
       "      <th>26-03-2021</th>\n",
       "      <td>961717.835573</td>\n",
       "      <td>0.007812</td>\n",
       "      <td>0.202043</td>\n",
       "    </tr>\n",
       "    <tr>\n",
       "      <th>29-03-2021</th>\n",
       "      <td>961502.737697</td>\n",
       "      <td>0.007597</td>\n",
       "      <td>0.211174</td>\n",
       "    </tr>\n",
       "    <tr>\n",
       "      <th>30-03-2021</th>\n",
       "      <td>957449.167779</td>\n",
       "      <td>0.003543</td>\n",
       "      <td>0.215466</td>\n",
       "    </tr>\n",
       "    <tr>\n",
       "      <th>31-03-2021</th>\n",
       "      <td>940673.954299</td>\n",
       "      <td>-0.013232</td>\n",
       "      <td>0.199382</td>\n",
       "    </tr>\n",
       "  </tbody>\n",
       "</table>\n",
       "</div>"
      ],
      "text/plain": [
       "                  Capital  Rendimiento  Rendimiendo Acumulado\n",
       "Timestamp                                                    \n",
       "26-03-2021  961717.835573     0.007812               0.202043\n",
       "29-03-2021  961502.737697     0.007597               0.211174\n",
       "30-03-2021  957449.167779     0.003543               0.215466\n",
       "31-03-2021  940673.954299    -0.013232               0.199382"
      ]
     },
     "execution_count": 9,
     "metadata": {},
     "output_type": "execute_result"
    }
   ],
   "source": [
    "df_activa.tail(4)"
   ]
  },
  {
   "cell_type": "code",
   "execution_count": 14,
   "metadata": {},
   "outputs": [
    {
     "data": {
      "text/plain": [
       "count       795.0000\n",
       "mean     954204.3705\n",
       "std       11795.2848\n",
       "min      891466.2017\n",
       "25%      947914.3245\n",
       "50%      953926.0058\n",
       "75%      960378.6614\n",
       "max     1010066.0959\n",
       "Name: Capital, dtype: float64"
      ]
     },
     "execution_count": 14,
     "metadata": {},
     "output_type": "execute_result"
    }
   ],
   "source": [
    "df_activa[\"Capital\"].describe()"
   ]
  },
  {
   "cell_type": "markdown",
   "metadata": {},
   "source": [
    "<hr style=\"border:0.02in solid gray\"> </hr>"
   ]
  },
  {
   "cell_type": "markdown",
   "metadata": {},
   "source": [
    "# <font color= #6B6B6B> 6. Historical Operation Registry </font>"
   ]
  },
  {
   "cell_type": "markdown",
   "metadata": {},
   "source": [
    "<hr style=\"border:0.02in solid gray\"> </hr>"
   ]
  },
  {
   "cell_type": "markdown",
   "metadata": {},
   "source": [
    "<hr style=\"border:0.02in solid gray\"> </hr>"
   ]
  },
  {
   "cell_type": "markdown",
   "metadata": {},
   "source": [
    "# <font color= #6B6B6B> 7. Performance Attribution Measures </font>"
   ]
  },
  {
   "cell_type": "markdown",
   "metadata": {},
   "source": [
    "<br>"
   ]
  },
  {
   "cell_type": "markdown",
   "metadata": {},
   "source": [
    "<hr style=\"border:0.02in solid gray\"> </hr>"
   ]
  },
  {
   "cell_type": "markdown",
   "metadata": {},
   "source": [
    "# <font color= #6B6B6B> <font size = 6> 8. References </font>"
   ]
  },
  {
   "cell_type": "markdown",
   "metadata": {},
   "source": [
    "<hr style=\"border:0.02in solid gray\"> </hr>"
   ]
  },
  {
   "cell_type": "markdown",
   "metadata": {},
   "source": [
    "-[1] Munnoz, 2020. Python project template. https://github.com/iffranciscome/python-project. (2021).\n",
    "\n",
    "-JAMES CHEN. (2021). Yield. 06-06-2021, de Investopedia Sitio web: https://www.investopedia.com/terms/y/yield.asp\n",
    "\n",
    "-NICK LIOUDIS. (2020). Passive vs. Active Portfolio Management: What's the Difference?. 06-06-2021, de Investopedia Sitio web: https://www.investopedia.com/ask/answers/040315/what-difference-between-passive-and-active-portfolio-management.asp\n",
    "\n",
    "-JASON FERNANDO. (2021). Sharpe Ratio. 06-06-2021, de Investopedia Sitio web: https://www.investopedia.com/terms/s/sharperatio.asp"
   ]
  },
  {
   "cell_type": "markdown",
   "metadata": {},
   "source": [
    "<br>"
   ]
  }
 ],
 "metadata": {
  "kernelspec": {
   "display_name": "Python 3",
   "language": "python",
   "name": "python3"
  },
  "language_info": {
   "codemirror_mode": {
    "name": "ipython",
    "version": 3
   },
   "file_extension": ".py",
   "mimetype": "text/x-python",
   "name": "python",
   "nbconvert_exporter": "python",
   "pygments_lexer": "ipython3",
   "version": "3.8.8"
  }
 },
 "nbformat": 4,
 "nbformat_minor": 4
}
